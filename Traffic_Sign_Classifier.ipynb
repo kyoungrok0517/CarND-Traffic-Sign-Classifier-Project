{
 "cells": [
  {
   "cell_type": "markdown",
   "metadata": {},
   "source": [
    "# Self-Driving Car Engineer Nanodegree\n",
    "\n",
    "## Deep Learning\n",
    "\n",
    "## Project: Build a Traffic Sign Recognition Classifier\n",
    "\n",
    "In this notebook, a template is provided for you to implement your functionality in stages, which is required to successfully complete this project. If additional code is required that cannot be included in the notebook, be sure that the Python code is successfully imported and included in your submission if necessary. \n",
    "\n",
    "> **Note**: Once you have completed all of the code implementations, you need to finalize your work by exporting the iPython Notebook as an HTML document. Before exporting the notebook to html, all of the code cells need to have been run so that reviewers can see the final implementation and output. You can then export the notebook by using the menu above and navigating to  \\n\",\n",
    "    \"**File -> Download as -> HTML (.html)**. Include the finished document along with this notebook as your submission. \n",
    "\n",
    "In addition to implementing code, there is a writeup to complete. The writeup should be completed in a separate file, which can be either a markdown file or a pdf document. There is a [write up template](https://github.com/udacity/CarND-Traffic-Sign-Classifier-Project/blob/master/writeup_template.md) that can be used to guide the writing process. Completing the code template and writeup template will cover all of the [rubric points](https://review.udacity.com/#!/rubrics/481/view) for this project.\n",
    "\n",
    "The [rubric](https://review.udacity.com/#!/rubrics/481/view) contains \"Stand Out Suggestions\" for enhancing the project beyond the minimum requirements. The stand out suggestions are optional. If you decide to pursue the \"stand out suggestions\", you can include the code in this Ipython notebook and also discuss the results in the writeup file.\n",
    "\n",
    "\n",
    ">**Note:** Code and Markdown cells can be executed using the **Shift + Enter** keyboard shortcut. In addition, Markdown cells can be edited by typically double-clicking the cell to enter edit mode."
   ]
  },
  {
   "cell_type": "markdown",
   "metadata": {},
   "source": [
    "---\n",
    "## Step 0: Load The Data"
   ]
  },
  {
   "cell_type": "code",
   "execution_count": 1,
   "metadata": {
    "collapsed": true
   },
   "outputs": [],
   "source": [
    "# Load pickled data\n",
    "import pickle\n",
    "\n",
    "# TODO: Fill this in based on where you saved the training and testing data\n",
    "\n",
    "training_file = './data/train.p'\n",
    "validation_file= './data/valid.p'\n",
    "testing_file = './data/test.p'\n",
    "\n",
    "with open(training_file, mode='rb') as f:\n",
    "    train = pickle.load(f)\n",
    "with open(validation_file, mode='rb') as f:\n",
    "    valid = pickle.load(f)\n",
    "with open(testing_file, mode='rb') as f:\n",
    "    test = pickle.load(f)\n",
    "    \n",
    "X_train, y_train = train['features'], train['labels']\n",
    "X_valid, y_valid = valid['features'], valid['labels']\n",
    "X_test, y_test = test['features'], test['labels']"
   ]
  },
  {
   "cell_type": "markdown",
   "metadata": {},
   "source": [
    "---\n",
    "\n",
    "## Step 1: Dataset Summary & Exploration\n",
    "\n",
    "The pickled data is a dictionary with 4 key/value pairs:\n",
    "\n",
    "- `'features'` is a 4D array containing raw pixel data of the traffic sign images, (num examples, width, height, channels).\n",
    "- `'labels'` is a 1D array containing the label/class id of the traffic sign. The file `signnames.csv` contains id -> name mappings for each id.\n",
    "- `'sizes'` is a list containing tuples, (width, height) representing the original width and height the image.\n",
    "- `'coords'` is a list containing tuples, (x1, y1, x2, y2) representing coordinates of a bounding box around the sign in the image. **THESE COORDINATES ASSUME THE ORIGINAL IMAGE. THE PICKLED DATA CONTAINS RESIZED VERSIONS (32 by 32) OF THESE IMAGES**\n",
    "\n",
    "Complete the basic data summary below. Use python, numpy and/or pandas methods to calculate the data summary rather than hard coding the results. For example, the [pandas shape method](http://pandas.pydata.org/pandas-docs/stable/generated/pandas.DataFrame.shape.html) might be useful for calculating some of the summary results. "
   ]
  },
  {
   "cell_type": "markdown",
   "metadata": {},
   "source": [
    "### Provide a Basic Summary of the Data Set Using Python, Numpy and/or Pandas"
   ]
  },
  {
   "cell_type": "code",
   "execution_count": 2,
   "metadata": {},
   "outputs": [
    {
     "data": {
      "text/plain": [
       "43"
      ]
     },
     "execution_count": 2,
     "metadata": {},
     "output_type": "execute_result"
    }
   ],
   "source": [
    "import pandas as pd\n",
    "df = pd.read_csv('./signnames.csv').set_index('ClassId')\n",
    "df.shape[0]"
   ]
  },
  {
   "cell_type": "code",
   "execution_count": 3,
   "metadata": {},
   "outputs": [
    {
     "name": "stdout",
     "output_type": "stream",
     "text": [
      "Number of training examples = 34799\n",
      "Number of testing examples = 12630\n",
      "Image data shape = (32, 32)\n",
      "Number of classes = 43\n"
     ]
    }
   ],
   "source": [
    "### Replace each question mark with the appropriate value. \n",
    "### Use python, pandas or numpy methods rather than hard coding the results\n",
    "\n",
    "# TODO: Number of training examples\n",
    "n_train = X_train.shape[0]\n",
    "\n",
    "# TODO: Number of validation examples\n",
    "n_validation = X_valid.shape[0]\n",
    "\n",
    "# TODO: Number of testing examples.\n",
    "n_test = X_test.shape[0]\n",
    "\n",
    "# TODO: What's the shape of an traffic sign image?\n",
    "image_shape = X_train.shape[1:3]\n",
    "\n",
    "# TODO: How many unique classes/labels there are in the dataset.\n",
    "import pandas as pd\n",
    "df_sign = pd.read_csv('./signnames.csv').set_index('ClassId')\n",
    "n_classes = df_sign.shape[0]\n",
    "\n",
    "print(\"Number of training examples =\", n_train)\n",
    "print(\"Number of testing examples =\", n_test)\n",
    "print(\"Image data shape =\", image_shape)\n",
    "print(\"Number of classes =\", n_classes)"
   ]
  },
  {
   "cell_type": "markdown",
   "metadata": {},
   "source": [
    "### Include an exploratory visualization of the dataset"
   ]
  },
  {
   "cell_type": "markdown",
   "metadata": {},
   "source": [
    "Visualize the German Traffic Signs Dataset using the pickled file(s). This is open ended, suggestions include: plotting traffic sign images, plotting the count of each sign, etc. \n",
    "\n",
    "The [Matplotlib](http://matplotlib.org/) [examples](http://matplotlib.org/examples/index.html) and [gallery](http://matplotlib.org/gallery.html) pages are a great resource for doing visualizations in Python.\n",
    "\n",
    "**NOTE:** It's recommended you start with something simple first. If you wish to do more, come back to it after you've completed the rest of the sections. It can be interesting to look at the distribution of classes in the training, validation and test set. Is the distribution the same? Are there more examples of some classes than others?"
   ]
  },
  {
   "cell_type": "code",
   "execution_count": 4,
   "metadata": {},
   "outputs": [
    {
     "name": "stdout",
     "output_type": "stream",
     "text": [
      "41\n"
     ]
    },
    {
     "data": {
      "image/png": "[encoded data removed]",
      "text/plain": [
       "<matplotlib.figure.Figure at 0x24654b67128>"
      ]
     },
     "metadata": {},
     "output_type": "display_data"
    }
   ],
   "source": [
    "### Data exploration visualization code goes here.\n",
    "### Feel free to use as many code cells as needed.\n",
    "import matplotlib.pyplot as plt\n",
    "import random\n",
    "# Visualizations will be shown in the notebook.\n",
    "%matplotlib inline\n",
    "\n",
    "index = random.randint(0, len(X_train))\n",
    "image = X_train[index].squeeze()\n",
    "\n",
    "plt.figure(figsize=(1,1))\n",
    "plt.imshow(image)\n",
    "print(y_train[index])"
   ]
  },
  {
   "cell_type": "markdown",
   "metadata": {},
   "source": [
    "----\n",
    "\n",
    "## Step 2: Design and Test a Model Architecture\n",
    "\n",
    "Design and implement a deep learning model that learns to recognize traffic signs. Train and test your model on the [German Traffic Sign Dataset](http://benchmark.ini.rub.de/?section=gtsrb&subsection=dataset).\n",
    "\n",
    "The LeNet-5 implementation shown in the [classroom](https://classroom.udacity.com/nanodegrees/nd013/parts/fbf77062-5703-404e-b60c-95b78b2f3f9e/modules/6df7ae49-c61c-4bb2-a23e-6527e69209ec/lessons/601ae704-1035-4287-8b11-e2c2716217ad/concepts/d4aca031-508f-4e0b-b493-e7b706120f81) at the end of the CNN lesson is a solid starting point. You'll have to change the number of classes and possibly the preprocessing, but aside from that it's plug and play! \n",
    "\n",
    "With the LeNet-5 solution from the lecture, you should expect a validation set accuracy of about 0.89. To meet specifications, the validation set accuracy will need to be at least 0.93. It is possible to get an even higher accuracy, but 0.93 is the minimum for a successful project submission. \n",
    "\n",
    "There are various aspects to consider when thinking about this problem:\n",
    "\n",
    "- Neural network architecture (is the network over or underfitting?)\n",
    "- Play around preprocessing techniques (normalization, rgb to grayscale, etc)\n",
    "- Number of examples per label (some have more than others).\n",
    "- Generate fake data.\n",
    "\n",
    "Here is an example of a [published baseline model on this problem](http://yann.lecun.com/exdb/publis/pdf/sermanet-ijcnn-11.pdf). It's not required to be familiar with the approach used in the paper but, it's good practice to try to read papers like these."
   ]
  },
  {
   "cell_type": "markdown",
   "metadata": {},
   "source": [
    "### Pre-process the Data Set (normalization, grayscale, etc.)"
   ]
  },
  {
   "cell_type": "markdown",
   "metadata": {},
   "source": [
    "Minimally, the image data should be normalized so that the data has mean zero and equal variance. For image data, `(pixel - 128)/ 128` is a quick way to approximately normalize the data and can be used in this project. \n",
    "\n",
    "Other pre-processing steps are optional. You can try different techniques to see if it improves performance. \n",
    "\n",
    "Use the code cell (or multiple code cells, if necessary) to implement the first step of your project."
   ]
  },
  {
   "cell_type": "code",
   "execution_count": 5,
   "metadata": {
    "collapsed": true
   },
   "outputs": [],
   "source": [
    "from sklearn.utils import shuffle"
   ]
  },
  {
   "cell_type": "code",
   "execution_count": 7,
   "metadata": {
    "scrolled": true
   },
   "outputs": [],
   "source": [
    "### Preprocess the data here. It is required to normalize the data. Other preprocessing steps could include \n",
    "### converting to grayscale, etc.\n",
    "### Feel free to use as many code cells as needed.\n",
    "import tensorflow as tf\n",
    "import numpy as np\n",
    "\n",
    "def rgb2gray(images):\n",
    "    images = np.dot(images[...,:3], [0.299, 0.587, 0.114])\n",
    "    images = np.reshape(images, (len(images), 32, 32, 1))\n",
    "    return images\n",
    "\n",
    "def _normalize(images):\n",
    "    return (images - 128) / 128\n",
    "\n",
    "def normalize(images):\n",
    "    return _normalize(rgb2gray(images))\n",
    "#     return _normalize(img)\n",
    "\n",
    "X_train = normalize(X_train)\n",
    "X_valid = normalize(X_valid)\n",
    "X_test = normalize(X_test)"
   ]
  },
  {
   "cell_type": "markdown",
   "metadata": {},
   "source": [
    "### Model Architecture"
   ]
  },
  {
   "cell_type": "markdown",
   "metadata": {},
   "source": [
    "![](https://static.notion-static.com/8cd67432ac4c4429959b610050f94920/_2017-10-18__5.07.32.png)"
   ]
  },
  {
   "cell_type": "markdown",
   "metadata": {},
   "source": [
    "## Reference\n",
    "\n",
    "https://medium.com/@vivek.yadav/improved-performance-of-deep-learning-neural-network-models-on-traffic-sign-classification-using-6355346da2dc"
   ]
  },
  {
   "cell_type": "code",
   "execution_count": 8,
   "metadata": {
    "collapsed": true
   },
   "outputs": [],
   "source": [
    "### Define your architecture here.\n",
    "### Feel free to use as many code cells as needed.\n",
    "from tensorflow.contrib.layers import flatten\n",
    "\n",
    "def LeNet(x):    \n",
    "    # Arguments used for tf.truncated_normal, randomly defines variables for the weights and biases for each layer\n",
    "    mu = 0\n",
    "    sigma = 0.1\n",
    "\n",
    "    # Conv1\n",
    "    conv1_W = tf.Variable(tf.truncated_normal(shape=(3, 3, 1, 6), mean = mu, stddev = sigma))\n",
    "    conv1_b = tf.Variable(tf.zeros(6))\n",
    "    conv1   = tf.nn.conv2d(x, conv1_W, strides=[1, 1, 1, 1], padding='VALID') + conv1_b\n",
    "    conv1 = tf.nn.relu(conv1)\n",
    "#     conv1 = tf.nn.max_pool(conv1, ksize=[1, 3, 3, 1], strides=[1, 2, 2, 1], padding='VALID')\n",
    "    conv1 = tf.nn.dropout(conv1, keep_prob=0.5)\n",
    "    \n",
    "    # Conv2\n",
    "    conv2_W = tf.Variable(tf.truncated_normal(shape=(5, 5, 6, 16), mean = mu, stddev = sigma))\n",
    "    conv2_b = tf.Variable(tf.zeros(16))\n",
    "    conv2 = tf.nn.conv2d(conv1, conv2_W, strides=[1, 1, 1, 1], padding='VALID') + conv2_b\n",
    "    conv2 = tf.nn.relu(conv2)\n",
    "    conv2 = tf.nn.max_pool(conv2, ksize=[1, 3, 3, 1], strides=[1, 2, 2, 1], padding='VALID')\n",
    "    conv2 = tf.nn.dropout(conv2, keep_prob=0.5)\n",
    "    \n",
    "    # Conv3\n",
    "    conv3_W = tf.Variable(tf.truncated_normal(shape=(5, 5, 16, 64), mean=mu, stddev=sigma))\n",
    "    conv3_b = tf.Variable(tf.zeros(64))\n",
    "    conv3 = tf.nn.conv2d(conv2, conv3_W, strides=[1, 1, 1, 1], padding='VALID') + conv3_b\n",
    "    conv3 = tf.nn.relu(conv3)\n",
    "    conv3 = tf.nn.max_pool(conv3, ksize=[1, 3, 3, 1], strides=[1, 2, 2, 1], padding='VALID')\n",
    "    conv3 = tf.nn.dropout(conv3, keep_prob=0.5)\n",
    "\n",
    "    # Flatten\n",
    "    fc0   = flatten(conv3)\n",
    "    \n",
    "    # Fc1\n",
    "    fc1_W = tf.Variable(tf.truncated_normal(shape=(576, 256), mean = mu, stddev = sigma))\n",
    "    fc1_b = tf.Variable(tf.zeros(256))\n",
    "    fc1   = tf.matmul(fc0, fc1_W) + fc1_b\n",
    "    fc1    = tf.nn.relu(fc1)\n",
    "    fc1 = tf.nn.dropout(fc1, keep_prob=0.5)\n",
    "\n",
    "    # Fc2\n",
    "    fc2_W  = tf.Variable(tf.truncated_normal(shape=(256, 64), mean = mu, stddev = sigma))\n",
    "    fc2_b  = tf.Variable(tf.zeros(64))\n",
    "    fc2    = tf.matmul(fc1, fc2_W) + fc2_b\n",
    "    fc2    = tf.nn.relu(fc2)\n",
    "    fc2    = tf.nn.dropout(fc2, keep_prob=0.5)\n",
    "    \n",
    "    # Output\n",
    "    out_W  = tf.Variable(tf.truncated_normal(shape=(64, 43), mean = mu, stddev = sigma))\n",
    "    out_b  = tf.Variable(tf.zeros(43))\n",
    "    logits = tf.matmul(fc2, out_W) + out_b\n",
    "    \n",
    "    return logits"
   ]
  },
  {
   "cell_type": "markdown",
   "metadata": {},
   "source": [
    "### Train, Validate and Test the Model"
   ]
  },
  {
   "cell_type": "markdown",
   "metadata": {},
   "source": [
    "A validation set can be used to assess how well the model is performing. A low accuracy on the training and validation\n",
    "sets imply underfitting. A high accuracy on the training set but low accuracy on the validation set implies overfitting."
   ]
  },
  {
   "cell_type": "code",
   "execution_count": null,
   "metadata": {
    "collapsed": true
   },
   "outputs": [],
   "source": [
    "### Train your model here.\n",
    "### Calculate and report the accuracy on the training and validation set.\n",
    "### Once a final model architecture is selected, \n",
    "### the accuracy on the test set should be calculated and reported as well.\n",
    "### Feel free to use as many code cells as needed."
   ]
  },
  {
   "cell_type": "markdown",
   "metadata": {},
   "source": [
    "## Features and Labels"
   ]
  },
  {
   "cell_type": "code",
   "execution_count": 9,
   "metadata": {
    "collapsed": true
   },
   "outputs": [],
   "source": [
    "x = tf.placeholder(tf.float32, (None, 32, 32, 1))\n",
    "y = tf.placeholder(tf.int32, (None))\n",
    "one_hot_y = tf.one_hot(y, 43)"
   ]
  },
  {
   "cell_type": "markdown",
   "metadata": {},
   "source": [
    "## Training Pipeline"
   ]
  },
  {
   "cell_type": "code",
   "execution_count": 10,
   "metadata": {
    "collapsed": true
   },
   "outputs": [],
   "source": [
    "rate = 0.0001\n",
    "\n",
    "logits = LeNet(x)\n",
    "cross_entropy = tf.nn.softmax_cross_entropy_with_logits(logits=logits, labels=one_hot_y)\n",
    "loss_operation = tf.reduce_mean(cross_entropy)\n",
    "optimizer = tf.train.AdamOptimizer(learning_rate=rate)\n",
    "training_operation = optimizer.minimize(loss_operation)"
   ]
  },
  {
   "cell_type": "markdown",
   "metadata": {},
   "source": [
    "## Model Evaluation"
   ]
  },
  {
   "cell_type": "code",
   "execution_count": 16,
   "metadata": {
    "collapsed": true
   },
   "outputs": [],
   "source": [
    "EPOCHS = 1200\n",
    "BATCH_SIZE = 512"
   ]
  },
  {
   "cell_type": "code",
   "execution_count": 17,
   "metadata": {
    "collapsed": true
   },
   "outputs": [],
   "source": [
    "correct = tf.equal(tf.argmax(logits, 1), tf.argmax(one_hot_y, 1))\n",
    "accuracy_op = tf.reduce_mean(tf.cast(correct, tf.float32))\n",
    "saver = tf.train.Saver()\n",
    "\n",
    "def evaluate(X_data, y_data):\n",
    "    n_examples = len(X_data)\n",
    "    total_accuracy = 0\n",
    "    sess = tf.get_default_session()\n",
    "    for offset in range(0, n_examples, BATCH_SIZE):\n",
    "        batch_x, batch_y = X_data[offset:offset+BATCH_SIZE], y_data[offset:offset+BATCH_SIZE]\n",
    "        accuracy = sess.run(accuracy_op, feed_dict={x: batch_x, y: batch_y})\n",
    "        total_accuracy += (accuracy * len(batch_x))\n",
    "    return total_accuracy / n_examples"
   ]
  },
  {
   "cell_type": "markdown",
   "metadata": {},
   "source": [
    "## Performance on Validation/Test Set"
   ]
  },
  {
   "cell_type": "code",
   "execution_count": 18,
   "metadata": {
    "scrolled": true
   },
   "outputs": [
    {
     "name": "stdout",
     "output_type": "stream",
     "text": [
      "Training...\n",
      "\n",
      "EPOCH 1 ...\n",
      "Validation Accuracy = 0.030\n",
      "Training Accuracy = 0.027\n",
      "\n",
      "EPOCH 21 ...\n",
      "Validation Accuracy = 0.088\n",
      "Training Accuracy = 0.096\n",
      "\n",
      "EPOCH 41 ...\n",
      "Validation Accuracy = 0.328\n",
      "Training Accuracy = 0.359\n",
      "\n",
      "EPOCH 61 ...\n",
      "Validation Accuracy = 0.491\n",
      "Training Accuracy = 0.512\n",
      "\n",
      "EPOCH 81 ...\n",
      "Validation Accuracy = 0.589\n",
      "Training Accuracy = 0.626\n",
      "\n",
      "EPOCH 101 ...\n",
      "Validation Accuracy = 0.665\n",
      "Training Accuracy = 0.701\n",
      "\n",
      "EPOCH 121 ...\n",
      "Validation Accuracy = 0.715\n",
      "Training Accuracy = 0.752\n",
      "\n",
      "EPOCH 141 ...\n",
      "Validation Accuracy = 0.750\n",
      "Training Accuracy = 0.790\n",
      "\n",
      "EPOCH 161 ...\n",
      "Validation Accuracy = 0.784\n",
      "Training Accuracy = 0.818\n",
      "\n",
      "EPOCH 181 ...\n",
      "Validation Accuracy = 0.799\n",
      "Training Accuracy = 0.836\n",
      "\n",
      "EPOCH 201 ...\n",
      "Validation Accuracy = 0.815\n",
      "Training Accuracy = 0.856\n",
      "\n",
      "EPOCH 221 ...\n",
      "Validation Accuracy = 0.839\n",
      "Training Accuracy = 0.869\n",
      "\n",
      "EPOCH 241 ...\n",
      "Validation Accuracy = 0.841\n",
      "Training Accuracy = 0.882\n",
      "\n",
      "EPOCH 261 ...\n",
      "Validation Accuracy = 0.851\n",
      "Training Accuracy = 0.888\n",
      "\n",
      "EPOCH 281 ...\n",
      "Validation Accuracy = 0.860\n",
      "Training Accuracy = 0.896\n",
      "\n",
      "EPOCH 301 ...\n",
      "Validation Accuracy = 0.863\n",
      "Training Accuracy = 0.904\n",
      "\n",
      "EPOCH 321 ...\n",
      "Validation Accuracy = 0.873\n",
      "Training Accuracy = 0.911\n",
      "\n",
      "EPOCH 341 ...\n",
      "Validation Accuracy = 0.878\n",
      "Training Accuracy = 0.911\n",
      "\n",
      "EPOCH 361 ...\n",
      "Validation Accuracy = 0.878\n",
      "Training Accuracy = 0.916\n",
      "\n",
      "EPOCH 381 ...\n",
      "Validation Accuracy = 0.891\n",
      "Training Accuracy = 0.921\n",
      "\n",
      "EPOCH 401 ...\n",
      "Validation Accuracy = 0.898\n",
      "Training Accuracy = 0.925\n",
      "\n",
      "EPOCH 421 ...\n",
      "Validation Accuracy = 0.892\n",
      "Training Accuracy = 0.928\n",
      "\n",
      "EPOCH 441 ...\n",
      "Validation Accuracy = 0.898\n",
      "Training Accuracy = 0.931\n",
      "\n",
      "EPOCH 461 ...\n",
      "Validation Accuracy = 0.901\n",
      "Training Accuracy = 0.932\n",
      "\n",
      "EPOCH 481 ...\n",
      "Validation Accuracy = 0.907\n",
      "Training Accuracy = 0.934\n",
      "\n",
      "EPOCH 501 ...\n",
      "Validation Accuracy = 0.896\n",
      "Training Accuracy = 0.939\n",
      "\n",
      "EPOCH 521 ...\n",
      "Validation Accuracy = 0.900\n",
      "Training Accuracy = 0.943\n",
      "\n",
      "EPOCH 541 ...\n",
      "Validation Accuracy = 0.907\n",
      "Training Accuracy = 0.940\n",
      "\n",
      "EPOCH 561 ...\n",
      "Validation Accuracy = 0.910\n",
      "Training Accuracy = 0.946\n",
      "\n",
      "EPOCH 581 ...\n",
      "Validation Accuracy = 0.916\n",
      "Training Accuracy = 0.945\n",
      "\n",
      "EPOCH 601 ...\n",
      "Validation Accuracy = 0.915\n",
      "Training Accuracy = 0.947\n",
      "\n",
      "EPOCH 621 ...\n",
      "Validation Accuracy = 0.913\n",
      "Training Accuracy = 0.950\n",
      "\n",
      "EPOCH 641 ...\n",
      "Validation Accuracy = 0.910\n",
      "Training Accuracy = 0.950\n",
      "\n",
      "EPOCH 661 ...\n",
      "Validation Accuracy = 0.920\n",
      "Training Accuracy = 0.951\n",
      "\n",
      "EPOCH 681 ...\n",
      "Validation Accuracy = 0.919\n",
      "Training Accuracy = 0.951\n",
      "\n",
      "EPOCH 701 ...\n",
      "Validation Accuracy = 0.917\n",
      "Training Accuracy = 0.952\n",
      "\n",
      "EPOCH 721 ...\n",
      "Validation Accuracy = 0.923\n",
      "Training Accuracy = 0.953\n",
      "\n",
      "EPOCH 741 ...\n",
      "Validation Accuracy = 0.923\n",
      "Training Accuracy = 0.954\n",
      "\n",
      "EPOCH 761 ...\n",
      "Validation Accuracy = 0.917\n",
      "Training Accuracy = 0.957\n",
      "\n",
      "EPOCH 781 ...\n",
      "Validation Accuracy = 0.920\n",
      "Training Accuracy = 0.956\n",
      "\n",
      "EPOCH 801 ...\n",
      "Validation Accuracy = 0.916\n",
      "Training Accuracy = 0.958\n",
      "\n",
      "EPOCH 821 ...\n",
      "Validation Accuracy = 0.924\n",
      "Training Accuracy = 0.959\n",
      "\n",
      "EPOCH 841 ...\n",
      "Validation Accuracy = 0.927\n",
      "Training Accuracy = 0.960\n",
      "\n",
      "EPOCH 861 ...\n",
      "Validation Accuracy = 0.926\n",
      "Training Accuracy = 0.959\n",
      "\n",
      "EPOCH 881 ...\n",
      "Validation Accuracy = 0.919\n",
      "Training Accuracy = 0.960\n",
      "\n",
      "EPOCH 901 ...\n",
      "Validation Accuracy = 0.928\n",
      "Training Accuracy = 0.960\n",
      "\n",
      "EPOCH 921 ...\n",
      "Validation Accuracy = 0.929\n",
      "Training Accuracy = 0.961\n",
      "\n",
      "EPOCH 941 ...\n",
      "Validation Accuracy = 0.925\n",
      "Training Accuracy = 0.960\n",
      "\n",
      "EPOCH 961 ...\n",
      "Validation Accuracy = 0.933\n",
      "Training Accuracy = 0.962\n",
      "\n",
      "EPOCH 981 ...\n",
      "Validation Accuracy = 0.932\n",
      "Training Accuracy = 0.963\n",
      "\n",
      "EPOCH 1001 ...\n",
      "Validation Accuracy = 0.927\n",
      "Training Accuracy = 0.962\n",
      "\n",
      "EPOCH 1021 ...\n",
      "Validation Accuracy = 0.928\n",
      "Training Accuracy = 0.963\n",
      "\n",
      "EPOCH 1041 ...\n",
      "Validation Accuracy = 0.932\n",
      "Training Accuracy = 0.964\n",
      "\n",
      "EPOCH 1061 ...\n",
      "Validation Accuracy = 0.929\n",
      "Training Accuracy = 0.964\n",
      "\n",
      "EPOCH 1081 ...\n",
      "Validation Accuracy = 0.936\n",
      "Training Accuracy = 0.962\n",
      "\n",
      "EPOCH 1101 ...\n",
      "Validation Accuracy = 0.929\n",
      "Training Accuracy = 0.964\n",
      "\n",
      "EPOCH 1121 ...\n",
      "Validation Accuracy = 0.930\n",
      "Training Accuracy = 0.965\n",
      "\n",
      "EPOCH 1141 ...\n",
      "Validation Accuracy = 0.934\n",
      "Training Accuracy = 0.965\n",
      "\n",
      "EPOCH 1161 ...\n",
      "Validation Accuracy = 0.935\n",
      "Training Accuracy = 0.967\n",
      "\n",
      "EPOCH 1181 ...\n",
      "Validation Accuracy = 0.932\n",
      "Training Accuracy = 0.966\n",
      "\n",
      "[Final Scores]\n",
      "Training Accuracy = 0.966\n",
      "Validation Accuracy = 0.928\n",
      "Test Accuracy = 0.915\n",
      "\n",
      "Model saved\n"
     ]
    }
   ],
   "source": [
    "with tf.Session() as sess:\n",
    "    sess.run(tf.global_variables_initializer())\n",
    "    num_examples = len(X_train)\n",
    "    \n",
    "    print(\"Training...\")\n",
    "    print()\n",
    "    for i in range(EPOCHS):\n",
    "        X_train, y_train = shuffle(X_train, y_train)\n",
    "        for offset in range(0, num_examples, BATCH_SIZE):\n",
    "            end = offset + BATCH_SIZE\n",
    "            batch_x, batch_y = X_train[offset:end], y_train[offset:end]\n",
    "            sess.run(training_operation, feed_dict={x: batch_x, y: batch_y})\n",
    "            \n",
    "        validation_accuracy = evaluate(X_valid, y_valid)\n",
    "        train_accuracy = evaluate(X_train, y_train)\n",
    "        if (i % 20) == 0:\n",
    "            print(\"EPOCH {} ...\".format(i+1))\n",
    "            print(\"Validation Accuracy = {:.3f}\".format(validation_accuracy))\n",
    "            print(\"Training Accuracy = {:.3f}\".format(train_accuracy))\n",
    "            print()\n",
    "    \n",
    "    # Final scores\n",
    "    print(\"[Final Scores]\")\n",
    "    \n",
    "    ## Train\n",
    "    validation_accuracy = evaluate(X_valid, y_valid)\n",
    "    print(\"Training Accuracy = {:.3f}\".format(train_accuracy))\n",
    "    \n",
    "    ## Validation\n",
    "    print(\"Validation Accuracy = {:.3f}\".format(validation_accuracy))\n",
    "    \n",
    "    ## Test\n",
    "    test_accuracy = evaluate(X_test, y_test)\n",
    "    print(\"Test Accuracy = {:.3f}\".format(test_accuracy))\n",
    "    print()\n",
    "        \n",
    "    saver.save(sess, './models/model.ckpt')\n",
    "    print(\"Model saved\")"
   ]
  },
  {
   "cell_type": "markdown",
   "metadata": {},
   "source": [
    "---\n",
    "\n",
    "## Step 3: Test a Model on New Images\n",
    "\n",
    "To give yourself more insight into how your model is working, download at least five pictures of German traffic signs from the web and use your model to predict the traffic sign type.\n",
    "\n",
    "You may find `signnames.csv` useful as it contains mappings from the class id (integer) to the actual sign name."
   ]
  },
  {
   "cell_type": "markdown",
   "metadata": {},
   "source": [
    "### Load and Output the Images"
   ]
  },
  {
   "cell_type": "code",
   "execution_count": null,
   "metadata": {
    "collapsed": true
   },
   "outputs": [],
   "source": [
    "### Load the images and plot them here.\n",
    "### Feel free to use as many code cells as needed."
   ]
  },
  {
   "cell_type": "code",
   "execution_count": 95,
   "metadata": {
    "collapsed": true
   },
   "outputs": [],
   "source": [
    "# Generate my live data\n",
    "import os\n",
    "import pickle\n",
    "from scipy import misc\n",
    "\n",
    "def generate_live_data():\n",
    "    live = {}\n",
    "    live['features'] = []\n",
    "    live['labels'] = []\n",
    "\n",
    "    for i in range(0, 5):\n",
    "        fpath = os.path.join('./live/{}.jpg'.format(i+1))\n",
    "        img = misc.imread(fpath)\n",
    "        live['features'].append(img)\n",
    "\n",
    "    # 1.jpg - 14 (stop)\n",
    "    live['labels'].append(14)\n",
    "    # 2.jpg - 1 (30km/h)\n",
    "    live['labels'].append(1)\n",
    "    # 3.jpg - 25 (Road work)\n",
    "    live['labels'].append(25)\n",
    "    # 4.jpg - 3 (60km/h)\n",
    "    live['labels'].append(3)\n",
    "    # 5.jpg - 7 (100km/h)\n",
    "    live['labels'].append(7)\n",
    "    \n",
    "    # turn into ndarray\n",
    "    live['features'] = np.array(live['features'])\n",
    "    live['labels'] = np.array(live['labels'])\n",
    "\n",
    "    # Save as pickle\n",
    "    with open('./live/live.p', 'wb') as fout:\n",
    "        pickle.dump(live, fout)\n",
    "        \n",
    "# execute\n",
    "# generate_live_data()"
   ]
  },
  {
   "cell_type": "code",
   "execution_count": 19,
   "metadata": {
    "scrolled": true
   },
   "outputs": [
    {
     "name": "stdout",
     "output_type": "stream",
     "text": [
      "14\n",
      "1\n",
      "25\n",
      "3\n",
      "7\n"
     ]
    },
    {
     "data": {
      "image/png": "[encoded data removed]",
      "text/plain": [
       "<matplotlib.figure.Figure at 0x24605104f28>"
      ]
     },
     "metadata": {},
     "output_type": "display_data"
    },
    {
     "data": {
      "image/png": "[encoded data removed]",
      "text/plain": [
       "<matplotlib.figure.Figure at 0x246161c55c0>"
      ]
     },
     "metadata": {},
     "output_type": "display_data"
    },
    {
     "data": {
      "image/png": "[encoded data removed]",
      "text/plain": [
       "<matplotlib.figure.Figure at 0x24af75009e8>"
      ]
     },
     "metadata": {},
     "output_type": "display_data"
    },
    {
     "data": {
      "image/png": "[encoded data removed]",
      "text/plain": [
       "<matplotlib.figure.Figure at 0x2463e2e67b8>"
      ]
     },
     "metadata": {},
     "output_type": "display_data"
    },
    {
     "data": {
      "image/png": "[encoded data removed]",
      "text/plain": [
       "<matplotlib.figure.Figure at 0x2461b9acdd8>"
      ]
     },
     "metadata": {},
     "output_type": "display_data"
    }
   ],
   "source": [
    "import pickle\n",
    "import matplotlib.pyplot as plt\n",
    "import random\n",
    "%matplotlib inline\n",
    "\n",
    "with open('./live/live.p', 'rb') as fin:\n",
    "    live = pickle.load(fin)\n",
    "\n",
    "len(live['features'])\n",
    "    \n",
    "for i in range(0, 5):\n",
    "    img = live['features'][i]\n",
    "    plt.figure(figsize=(1,1))\n",
    "    plt.imshow(img)\n",
    "    print(live['labels'][i])"
   ]
  },
  {
   "cell_type": "markdown",
   "metadata": {},
   "source": [
    "### Predict the Sign Type for Each Image"
   ]
  },
  {
   "cell_type": "code",
   "execution_count": null,
   "metadata": {
    "collapsed": true
   },
   "outputs": [],
   "source": [
    "### Run the predictions here and use the model to output the prediction for each image.\n",
    "### Make sure to pre-process the images with the same pre-processing pipeline used earlier.\n",
    "### Feel free to use as many code cells as needed."
   ]
  },
  {
   "cell_type": "markdown",
   "metadata": {},
   "source": [
    "#### pre-process"
   ]
  },
  {
   "cell_type": "code",
   "execution_count": 20,
   "metadata": {
    "collapsed": true
   },
   "outputs": [],
   "source": [
    "### Preprocess the data here. It is required to normalize the data. Other preprocessing steps could include \n",
    "### converting to grayscale, etc.\n",
    "### Feel free to use as many code cells as needed.\n",
    "import tensorflow as tf\n",
    "import numpy as np\n",
    "\n",
    "def rgb2gray(images):\n",
    "    images = np.dot(images[...,:3], [0.299, 0.587, 0.114])\n",
    "    images = np.reshape(images, (len(images), 32, 32, 1))\n",
    "    return images\n",
    "\n",
    "def _normalize(images):\n",
    "    return (images - 128) / 128\n",
    "\n",
    "def normalize(images):\n",
    "    return _normalize(rgb2gray(images))\n",
    "#     return _normalize(img)"
   ]
  },
  {
   "cell_type": "code",
   "execution_count": 21,
   "metadata": {
    "collapsed": true
   },
   "outputs": [],
   "source": [
    "X_live = np.array(normalize(live['features']))\n",
    "y_live = live['labels'].copy()"
   ]
  },
  {
   "cell_type": "markdown",
   "metadata": {},
   "source": [
    "### Analyze Performance"
   ]
  },
  {
   "cell_type": "code",
   "execution_count": null,
   "metadata": {
    "collapsed": true
   },
   "outputs": [],
   "source": [
    "### Calculate the accuracy for these 5 new images. \n",
    "### For example, if the model predicted 1 out of 5 signs correctly, it's 20% accurate on these new images."
   ]
  },
  {
   "cell_type": "code",
   "execution_count": 40,
   "metadata": {},
   "outputs": [
    {
     "name": "stdout",
     "output_type": "stream",
     "text": [
      "INFO:tensorflow:Restoring parameters from ./models/model.ckpt\n",
      "Evaluating on live data...\n",
      "\n",
      "Live Accuracy = 0.800\n"
     ]
    }
   ],
   "source": [
    "tf.reset_default_graph()\n",
    "\n",
    "x = tf.placeholder(tf.float32, (None, 32, 32, 1))\n",
    "y = tf.placeholder(tf.int32, (None))\n",
    "one_hot_y = tf.one_hot(y, 43)\n",
    "\n",
    "logits = LeNet(x)\n",
    "correct = tf.equal(tf.argmax(logits, 1), tf.argmax(one_hot_y, 1))\n",
    "accuracy_op = tf.reduce_mean(tf.cast(correct, tf.float32))\n",
    "saver = tf.train.Saver()\n",
    "\n",
    "def evaluate_live(X_data, y_data):\n",
    "    n_examples = len(X_data)\n",
    "    sess = tf.get_default_session()\n",
    "    accuracy = sess.run(accuracy_op, feed_dict={x: X_data, y: y_data})\n",
    "    return accuracy\n",
    "\n",
    "with tf.Session() as sess:\n",
    "    saver.restore(sess, './models/model.ckpt')\n",
    "    num_examples = len(X_live)\n",
    "    \n",
    "    print(\"Evaluating on live data...\")\n",
    "    print()\n",
    "    live_accuracy = evaluate_live(X_live, y_live)\n",
    "    print(\"Live Accuracy = {:.3f}\".format(live_accuracy))"
   ]
  },
  {
   "cell_type": "markdown",
   "metadata": {},
   "source": [
    "### Output Top 5 Softmax Probabilities For Each Image Found on the Web"
   ]
  },
  {
   "cell_type": "markdown",
   "metadata": {},
   "source": [
    "For each of the new images, print out the model's softmax probabilities to show the **certainty** of the model's predictions (limit the output to the top 5 probabilities for each image). [`tf.nn.top_k`](https://www.tensorflow.org/versions/r0.12/api_docs/python/nn.html#top_k) could prove helpful here. \n",
    "\n",
    "The example below demonstrates how tf.nn.top_k can be used to find the top k predictions for each image.\n",
    "\n",
    "`tf.nn.top_k` will return the values and indices (class ids) of the top k predictions. So if k=3, for each sign, it'll return the 3 largest probabilities (out of a possible 43) and the correspoding class ids.\n",
    "\n",
    "Take this numpy array as an example. The values in the array represent predictions. The array contains softmax probabilities for five candidate images with six possible classes. `tf.nn.top_k` is used to choose the three classes with the highest probability:\n",
    "\n",
    "```\n",
    "# (5, 6) array\n",
    "a = np.array([[ 0.24879643,  0.07032244,  0.12641572,  0.34763842,  0.07893497,\n",
    "         0.12789202],\n",
    "       [ 0.28086119,  0.27569815,  0.08594638,  0.0178669 ,  0.18063401,\n",
    "         0.15899337],\n",
    "       [ 0.26076848,  0.23664738,  0.08020603,  0.07001922,  0.1134371 ,\n",
    "         0.23892179],\n",
    "       [ 0.11943333,  0.29198961,  0.02605103,  0.26234032,  0.1351348 ,\n",
    "         0.16505091],\n",
    "       [ 0.09561176,  0.34396535,  0.0643941 ,  0.16240774,  0.24206137,\n",
    "         0.09155967]])\n",
    "```\n",
    "\n",
    "Running it through `sess.run(tf.nn.top_k(tf.constant(a), k=3))` produces:\n",
    "\n",
    "```\n",
    "TopKV2(values=array([[ 0.34763842,  0.24879643,  0.12789202],\n",
    "       [ 0.28086119,  0.27569815,  0.18063401],\n",
    "       [ 0.26076848,  0.23892179,  0.23664738],\n",
    "       [ 0.29198961,  0.26234032,  0.16505091],\n",
    "       [ 0.34396535,  0.24206137,  0.16240774]]), indices=array([[3, 0, 5],\n",
    "       [0, 1, 4],\n",
    "       [0, 5, 1],\n",
    "       [1, 3, 5],\n",
    "       [1, 4, 3]], dtype=int32))\n",
    "```\n",
    "\n",
    "Looking just at the first row we get `[ 0.34763842,  0.24879643,  0.12789202]`, you can confirm these are the 3 largest probabilities in `a`. You'll also notice `[3, 0, 5]` are the corresponding indices."
   ]
  },
  {
   "cell_type": "code",
   "execution_count": 47,
   "metadata": {},
   "outputs": [
    {
     "name": "stdout",
     "output_type": "stream",
     "text": [
      "INFO:tensorflow:Restoring parameters from ./models/model.ckpt\n",
      "Printing top 5 softmax probabilities...\n",
      "\n",
      "TopKV2(values=array([[  6.68607569,   4.26891994,   2.98881602,   2.79366827,\n",
      "          1.82960892],\n",
      "       [ 26.83397675,  12.1982584 ,   7.40629005,   5.41844368,\n",
      "          5.31509018],\n",
      "       [ 18.95600319,  12.11317825,   7.62960958,   6.18753195,\n",
      "          5.91611385],\n",
      "       [ 11.7952261 ,   3.96094489,   1.39036632,   0.99324113,\n",
      "         -1.23037958],\n",
      "       [  8.58481789,   7.36900473,   6.02961969,   4.97103882,\n",
      "          4.04463911]], dtype=float32), indices=array([[14,  1,  2, 38,  4],\n",
      "       [ 1,  0,  2,  4,  5],\n",
      "       [25, 24, 29, 26, 30],\n",
      "       [ 3,  5, 36,  2, 35],\n",
      "       [27, 21, 18, 11, 24]]))\n"
     ]
    }
   ],
   "source": [
    "### Print out the top five softmax probabilities for the predictions on the German traffic sign images found on the web. \n",
    "### Feel free to use as many code cells as needed.\n",
    "tf.reset_default_graph()\n",
    "\n",
    "x = tf.placeholder(tf.float32, (None, 32, 32, 1))\n",
    "y = tf.placeholder(tf.int32, (None))\n",
    "one_hot_y = tf.one_hot(y, 43)\n",
    "\n",
    "logits = LeNet(x)\n",
    "top_5 = tf.nn.top_k(logits, k=5)\n",
    "saver = tf.train.Saver()\n",
    "\n",
    "with tf.Session() as sess:\n",
    "    saver.restore(sess, './models/model.ckpt')\n",
    "    print(\"Printing top 5 softmax probabilities...\")\n",
    "    print()\n",
    "    print(sess.run(top_5, feed_dict={x: X_live, y: y_live}))\n",
    "    \n",
    "#     live_accuracy = evaluate_live(X_live, y_live)\n",
    "#     print(\"Live Accuracy = {:.3f}\".format(live_accuracy))"
   ]
  },
  {
   "cell_type": "markdown",
   "metadata": {},
   "source": [
    "### Project Writeup\n",
    "\n",
    "Once you have completed the code implementation, document your results in a project writeup using this [template](https://github.com/udacity/CarND-Traffic-Sign-Classifier-Project/blob/master/writeup_template.md) as a guide. The writeup can be in a markdown or pdf file. "
   ]
  },
  {
   "cell_type": "markdown",
   "metadata": {},
   "source": [
    "> **Note**: Once you have completed all of the code implementations and successfully answered each question above, you may finalize your work by exporting the iPython Notebook as an HTML document. You can do this by using the menu above and navigating to  \\n\",\n",
    "    \"**File -> Download as -> HTML (.html)**. Include the finished document along with this notebook as your submission."
   ]
  },
  {
   "cell_type": "markdown",
   "metadata": {},
   "source": [
    "---\n",
    "\n",
    "## Step 4 (Optional): Visualize the Neural Network's State with Test Images\n",
    "\n",
    " This Section is not required to complete but acts as an additional excersise for understaning the output of a neural network's weights. While neural networks can be a great learning device they are often referred to as a black box. We can understand what the weights of a neural network look like better by plotting their feature maps. After successfully training your neural network you can see what it's feature maps look like by plotting the output of the network's weight layers in response to a test stimuli image. From these plotted feature maps, it's possible to see what characteristics of an image the network finds interesting. For a sign, maybe the inner network feature maps react with high activation to the sign's boundary outline or to the contrast in the sign's painted symbol.\n",
    "\n",
    " Provided for you below is the function code that allows you to get the visualization output of any tensorflow weight layer you want. The inputs to the function should be a stimuli image, one used during training or a new one you provided, and then the tensorflow variable name that represents the layer's state during the training process, for instance if you wanted to see what the [LeNet lab's](https://classroom.udacity.com/nanodegrees/nd013/parts/fbf77062-5703-404e-b60c-95b78b2f3f9e/modules/6df7ae49-c61c-4bb2-a23e-6527e69209ec/lessons/601ae704-1035-4287-8b11-e2c2716217ad/concepts/d4aca031-508f-4e0b-b493-e7b706120f81) feature maps looked like for it's second convolutional layer you could enter conv2 as the tf_activation variable.\n",
    "\n",
    "For an example of what feature map outputs look like, check out NVIDIA's results in their paper [End-to-End Deep Learning for Self-Driving Cars](https://devblogs.nvidia.com/parallelforall/deep-learning-self-driving-cars/) in the section Visualization of internal CNN State. NVIDIA was able to show that their network's inner weights had high activations to road boundary lines by comparing feature maps from an image with a clear path to one without. Try experimenting with a similar test to show that your trained network's weights are looking for interesting features, whether it's looking at differences in feature maps from images with or without a sign, or even what feature maps look like in a trained network vs a completely untrained one on the same sign image.\n",
    "\n",
    "<figure>\n",
    " <img src=\"visualize_cnn.png\" width=\"380\" alt=\"Combined Image\" />\n",
    " <figcaption>\n",
    " <p></p> \n",
    " <p style=\"text-align: center;\"> Your output should look something like this (above)</p> \n",
    " </figcaption>\n",
    "</figure>\n",
    " <p></p> \n"
   ]
  },
  {
   "cell_type": "code",
   "execution_count": null,
   "metadata": {
    "collapsed": true
   },
   "outputs": [],
   "source": [
    "### Visualize your network's feature maps here.\n",
    "### Feel free to use as many code cells as needed.\n",
    "\n",
    "# image_input: the test image being fed into the network to produce the feature maps\n",
    "# tf_activation: should be a tf variable name used during your training procedure that represents the calculated state of a specific weight layer\n",
    "# activation_min/max: can be used to view the activation contrast in more detail, by default matplot sets min and max to the actual min and max values of the output\n",
    "# plt_num: used to plot out multiple different weight feature map sets on the same block, just extend the plt number for each new feature map entry\n",
    "\n",
    "def outputFeatureMap(image_input, tf_activation, activation_min=-1, activation_max=-1 ,plt_num=1):\n",
    "    # Here make sure to preprocess your image_input in a way your network expects\n",
    "    # with size, normalization, ect if needed\n",
    "    # image_input =\n",
    "    # Note: x should be the same name as your network's tensorflow data placeholder variable\n",
    "    # If you get an error tf_activation is not defined it may be having trouble accessing the variable from inside a function\n",
    "    activation = tf_activation.eval(session=sess,feed_dict={x : image_input})\n",
    "    featuremaps = activation.shape[3]\n",
    "    plt.figure(plt_num, figsize=(15,15))\n",
    "    for featuremap in range(featuremaps):\n",
    "        plt.subplot(6,8, featuremap+1) # sets the number of feature maps to show on each row and column\n",
    "        plt.title('FeatureMap ' + str(featuremap)) # displays the feature map number\n",
    "        if activation_min != -1 & activation_max != -1:\n",
    "            plt.imshow(activation[0,:,:, featuremap], interpolation=\"nearest\", vmin =activation_min, vmax=activation_max, cmap=\"gray\")\n",
    "        elif activation_max != -1:\n",
    "            plt.imshow(activation[0,:,:, featuremap], interpolation=\"nearest\", vmax=activation_max, cmap=\"gray\")\n",
    "        elif activation_min !=-1:\n",
    "            plt.imshow(activation[0,:,:, featuremap], interpolation=\"nearest\", vmin=activation_min, cmap=\"gray\")\n",
    "        else:\n",
    "            plt.imshow(activation[0,:,:, featuremap], interpolation=\"nearest\", cmap=\"gray\")"
   ]
  }
 ],
 "metadata": {
  "anaconda-cloud": {},
  "kernelspec": {
   "display_name": "carnd-term1",
   "language": "python",
   "name": "carnd-term1"
  },
  "language_info": {
   "codemirror_mode": {
    "name": "ipython",
    "version": 3
   },
   "file_extension": ".py",
   "mimetype": "text/x-python",
   "name": "python",
   "nbconvert_exporter": "python",
   "pygments_lexer": "ipython3",
   "version": "3.5.2"
  },
  "widgets": {
   "state": {},
   "version": "1.1.2"
  }
 },
 "nbformat": 4,
 "nbformat_minor": 1
}
