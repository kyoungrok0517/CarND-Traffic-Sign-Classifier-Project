{
 "cells": [
  {
   "cell_type": "markdown",
   "metadata": {},
   "source": [
    "# Self-Driving Car Engineer Nanodegree\n",
    "\n",
    "## Deep Learning\n",
    "\n",
    "## Project: Build a Traffic Sign Recognition Classifier\n",
    "\n",
    "In this notebook, a template is provided for you to implement your functionality in stages, which is required to successfully complete this project. If additional code is required that cannot be included in the notebook, be sure that the Python code is successfully imported and included in your submission if necessary. \n",
    "\n",
    "> **Note**: Once you have completed all of the code implementations, you need to finalize your work by exporting the iPython Notebook as an HTML document. Before exporting the notebook to html, all of the code cells need to have been run so that reviewers can see the final implementation and output. You can then export the notebook by using the menu above and navigating to  \\n\",\n",
    "    \"**File -> Download as -> HTML (.html)**. Include the finished document along with this notebook as your submission. \n",
    "\n",
    "In addition to implementing code, there is a writeup to complete. The writeup should be completed in a separate file, which can be either a markdown file or a pdf document. There is a [write up template](https://github.com/udacity/CarND-Traffic-Sign-Classifier-Project/blob/master/writeup_template.md) that can be used to guide the writing process. Completing the code template and writeup template will cover all of the [rubric points](https://review.udacity.com/#!/rubrics/481/view) for this project.\n",
    "\n",
    "The [rubric](https://review.udacity.com/#!/rubrics/481/view) contains \"Stand Out Suggestions\" for enhancing the project beyond the minimum requirements. The stand out suggestions are optional. If you decide to pursue the \"stand out suggestions\", you can include the code in this Ipython notebook and also discuss the results in the writeup file.\n",
    "\n",
    "\n",
    ">**Note:** Code and Markdown cells can be executed using the **Shift + Enter** keyboard shortcut. In addition, Markdown cells can be edited by typically double-clicking the cell to enter edit mode."
   ]
  },
  {
   "cell_type": "markdown",
   "metadata": {},
   "source": [
    "---\n",
    "## Step 0: Load The Data"
   ]
  },
  {
   "cell_type": "code",
   "execution_count": 1,
   "metadata": {
    "collapsed": true
   },
   "outputs": [],
   "source": [
    "# Load pickled data\n",
    "import pickle\n",
    "\n",
    "# TODO: Fill this in based on where you saved the training and testing data\n",
    "\n",
    "training_file = './data/train.p'\n",
    "validation_file= './data/valid.p'\n",
    "testing_file = './data/test.p'\n",
    "\n",
    "with open(training_file, mode='rb') as f:\n",
    "    train = pickle.load(f)\n",
    "with open(validation_file, mode='rb') as f:\n",
    "    valid = pickle.load(f)\n",
    "with open(testing_file, mode='rb') as f:\n",
    "    test = pickle.load(f)\n",
    "    \n",
    "X_train, y_train = train['features'], train['labels']\n",
    "X_valid, y_valid = valid['features'], valid['labels']\n",
    "X_test, y_test = test['features'], test['labels']"
   ]
  },
  {
   "cell_type": "markdown",
   "metadata": {},
   "source": [
    "---\n",
    "\n",
    "## Step 1: Dataset Summary & Exploration\n",
    "\n",
    "The pickled data is a dictionary with 4 key/value pairs:\n",
    "\n",
    "- `'features'` is a 4D array containing raw pixel data of the traffic sign images, (num examples, width, height, channels).\n",
    "- `'labels'` is a 1D array containing the label/class id of the traffic sign. The file `signnames.csv` contains id -> name mappings for each id.\n",
    "- `'sizes'` is a list containing tuples, (width, height) representing the original width and height the image.\n",
    "- `'coords'` is a list containing tuples, (x1, y1, x2, y2) representing coordinates of a bounding box around the sign in the image. **THESE COORDINATES ASSUME THE ORIGINAL IMAGE. THE PICKLED DATA CONTAINS RESIZED VERSIONS (32 by 32) OF THESE IMAGES**\n",
    "\n",
    "Complete the basic data summary below. Use python, numpy and/or pandas methods to calculate the data summary rather than hard coding the results. For example, the [pandas shape method](http://pandas.pydata.org/pandas-docs/stable/generated/pandas.DataFrame.shape.html) might be useful for calculating some of the summary results. "
   ]
  },
  {
   "cell_type": "markdown",
   "metadata": {},
   "source": [
    "### Provide a Basic Summary of the Data Set Using Python, Numpy and/or Pandas"
   ]
  },
  {
   "cell_type": "code",
   "execution_count": 2,
   "metadata": {},
   "outputs": [
    {
     "data": {
      "text/plain": [
       "43"
      ]
     },
     "execution_count": 2,
     "metadata": {},
     "output_type": "execute_result"
    }
   ],
   "source": [
    "import pandas as pd\n",
    "df = pd.read_csv('./signnames.csv').set_index('ClassId')\n",
    "df.shape[0]"
   ]
  },
  {
   "cell_type": "code",
   "execution_count": 3,
   "metadata": {},
   "outputs": [
    {
     "name": "stdout",
     "output_type": "stream",
     "text": [
      "Number of training examples = 34799\n",
      "Number of validation examples = 4410\n",
      "Number of testing examples = 12630\n",
      "Image data shape = (32, 32)\n",
      "Number of classes = 43\n"
     ]
    }
   ],
   "source": [
    "### Replace each question mark with the appropriate value. \n",
    "### Use python, pandas or numpy methods rather than hard coding the results\n",
    "\n",
    "# TODO: Number of training examples\n",
    "n_train = X_train.shape[0]\n",
    "\n",
    "# TODO: Number of validation examples\n",
    "n_validation = X_valid.shape[0]\n",
    "\n",
    "# TODO: Number of testing examples.\n",
    "n_test = X_test.shape[0]\n",
    "\n",
    "# TODO: What's the shape of an traffic sign image?\n",
    "image_shape = X_train.shape[1:3]\n",
    "\n",
    "# TODO: How many unique classes/labels there are in the dataset.\n",
    "import pandas as pd\n",
    "df_sign = pd.read_csv('./signnames.csv')\n",
    "n_classes = df_sign.shape[0]\n",
    "\n",
    "print(\"Number of training examples =\", n_train)\n",
    "print(\"Number of validation examples =\", n_validation)\n",
    "print(\"Number of testing examples =\", n_test)\n",
    "print(\"Image data shape =\", image_shape)\n",
    "print(\"Number of classes =\", n_classes)"
   ]
  },
  {
   "cell_type": "markdown",
   "metadata": {},
   "source": [
    "### Include an exploratory visualization of the dataset"
   ]
  },
  {
   "cell_type": "markdown",
   "metadata": {},
   "source": [
    "Visualize the German Traffic Signs Dataset using the pickled file(s). This is open ended, suggestions include: plotting traffic sign images, plotting the count of each sign, etc. \n",
    "\n",
    "The [Matplotlib](http://matplotlib.org/) [examples](http://matplotlib.org/examples/index.html) and [gallery](http://matplotlib.org/gallery.html) pages are a great resource for doing visualizations in Python.\n",
    "\n",
    "**NOTE:** It's recommended you start with something simple first. If you wish to do more, come back to it after you've completed the rest of the sections. It can be interesting to look at the distribution of classes in the training, validation and test set. Is the distribution the same? Are there more examples of some classes than others?"
   ]
  },
  {
   "cell_type": "markdown",
   "metadata": {},
   "source": [
    "#### Label distribution (training)"
   ]
  },
  {
   "cell_type": "code",
   "execution_count": 4,
   "metadata": {},
   "outputs": [
    {
     "data": {
      "text/plain": [
       "<matplotlib.text.Text at 0x177822e1550>"
      ]
     },
     "execution_count": 4,
     "metadata": {},
     "output_type": "execute_result"
    },
    {
     "data": {
      "image/png": "[encoded data removed]",
      "text/plain": [
       "<matplotlib.figure.Figure at 0x1778224dc88>"
      ]
     },
     "metadata": {},
     "output_type": "display_data"
    }
   ],
   "source": [
    "from collections import Counter\n",
    "import matplotlib.pyplot as plt\n",
    "import pandas as pd\n",
    "%matplotlib inline\n",
    "\n",
    "labels = pd.read_csv('./signnames.csv')['ClassId'].unique()\n",
    "plt.hist(y_train, bins=labels)\n",
    "plt.title('Label Distribution (Train)')\n",
    "plt.xlabel('Label')\n",
    "plt.ylabel('Freq.')"
   ]
  },
  {
   "cell_type": "markdown",
   "metadata": {},
   "source": [
    "#### ?"
   ]
  },
  {
   "cell_type": "code",
   "execution_count": 5,
   "metadata": {},
   "outputs": [
    {
     "name": "stdout",
     "output_type": "stream",
     "text": [
      "25\n"
     ]
    },
    {
     "data": {
      "image/png": "[encoded data removed]",
      "text/plain": [
       "<matplotlib.figure.Figure at 0x177833a81d0>"
      ]
     },
     "metadata": {},
     "output_type": "display_data"
    }
   ],
   "source": [
    "### Data exploration visualization code goes here.\n",
    "### Feel free to use as many code cells as needed.\n",
    "import matplotlib.pyplot as plt\n",
    "import random\n",
    "# Visualizations will be shown in the notebook.\n",
    "%matplotlib inline\n",
    "\n",
    "index = random.randint(0, len(X_train))\n",
    "image = X_train[index].squeeze()\n",
    "\n",
    "plt.figure(figsize=(1,1))\n",
    "plt.imshow(image)\n",
    "print(y_train[index])"
   ]
  },
  {
   "cell_type": "markdown",
   "metadata": {},
   "source": [
    "----\n",
    "\n",
    "## Step 2: Design and Test a Model Architecture\n",
    "\n",
    "Design and implement a deep learning model that learns to recognize traffic signs. Train and test your model on the [German Traffic Sign Dataset](http://benchmark.ini.rub.de/?section=gtsrb&subsection=dataset).\n",
    "\n",
    "The LeNet-5 implementation shown in the [classroom](https://classroom.udacity.com/nanodegrees/nd013/parts/fbf77062-5703-404e-b60c-95b78b2f3f9e/modules/6df7ae49-c61c-4bb2-a23e-6527e69209ec/lessons/601ae704-1035-4287-8b11-e2c2716217ad/concepts/d4aca031-508f-4e0b-b493-e7b706120f81) at the end of the CNN lesson is a solid starting point. You'll have to change the number of classes and possibly the preprocessing, but aside from that it's plug and play! \n",
    "\n",
    "With the LeNet-5 solution from the lecture, you should expect a validation set accuracy of about 0.89. To meet specifications, the validation set accuracy will need to be at least 0.93. It is possible to get an even higher accuracy, but 0.93 is the minimum for a successful project submission. \n",
    "\n",
    "There are various aspects to consider when thinking about this problem:\n",
    "\n",
    "- Neural network architecture (is the network over or underfitting?)\n",
    "- Play around preprocessing techniques (normalization, rgb to grayscale, etc)\n",
    "- Number of examples per label (some have more than others).\n",
    "- Generate fake data.\n",
    "\n",
    "Here is an example of a [published baseline model on this problem](http://yann.lecun.com/exdb/publis/pdf/sermanet-ijcnn-11.pdf). It's not required to be familiar with the approach used in the paper but, it's good practice to try to read papers like these."
   ]
  },
  {
   "cell_type": "markdown",
   "metadata": {},
   "source": [
    "### Pre-process the Data Set (normalization, grayscale, etc.)"
   ]
  },
  {
   "cell_type": "markdown",
   "metadata": {},
   "source": [
    "Minimally, the image data should be normalized so that the data has mean zero and equal variance. For image data, `(pixel - 128)/ 128` is a quick way to approximately normalize the data and can be used in this project. \n",
    "\n",
    "Other pre-processing steps are optional. You can try different techniques to see if it improves performance. \n",
    "\n",
    "Use the code cell (or multiple code cells, if necessary) to implement the first step of your project."
   ]
  },
  {
   "cell_type": "code",
   "execution_count": 6,
   "metadata": {
    "collapsed": true
   },
   "outputs": [],
   "source": [
    "from sklearn.utils import shuffle"
   ]
  },
  {
   "cell_type": "code",
   "execution_count": 7,
   "metadata": {},
   "outputs": [
    {
     "name": "stdout",
     "output_type": "stream",
     "text": [
      "2\n"
     ]
    },
    {
     "data": {
      "image/png": "[encoded data removed]",
      "text/plain": [
       "<matplotlib.figure.Figure at 0x17782268940>"
      ]
     },
     "metadata": {},
     "output_type": "display_data"
    }
   ],
   "source": [
    "### Data exploration visualization code goes here.\n",
    "### Feel free to use as many code cells as needed.\n",
    "import matplotlib.pyplot as plt\n",
    "import random\n",
    "# Visualizations will be shown in the notebook.\n",
    "%matplotlib inline\n",
    "\n",
    "index = random.randint(0, len(X_train))\n",
    "image = X_train[index].squeeze()\n",
    "\n",
    "plt.figure(figsize=(1,1))\n",
    "plt.imshow(image)\n",
    "print(y_train[index])"
   ]
  },
  {
   "cell_type": "code",
   "execution_count": 8,
   "metadata": {
    "scrolled": true
   },
   "outputs": [
    {
     "name": "stderr",
     "output_type": "stream",
     "text": [
      "C:\\Users\\kyoun\\Anaconda3\\envs\\carnd-term1\\lib\\site-packages\\matplotlib\\figure.py:402: UserWarning: matplotlib is currently using a non-GUI backend, so cannot show the figure\n",
      "  \"matplotlib is currently using a non-GUI backend, \"\n"
     ]
    },
    {
     "data": {
      "image/png": "[encoded data removed]",
      "text/plain": [
       "<matplotlib.figure.Figure at 0x17783b8bb38>"
      ]
     },
     "metadata": {},
     "output_type": "display_data"
    }
   ],
   "source": [
    "### Preprocess the data here. It is required to normalize the data. Other preprocessing steps could include \n",
    "### converting to grayscale, etc.\n",
    "### Feel free to use as many code cells as needed.\n",
    "import tensorflow as tf\n",
    "import numpy as np\n",
    "import matplotlib.pyplot as plt\n",
    "import random\n",
    "# Visualizations will be shown in the notebook.\n",
    "%matplotlib inline\n",
    "\n",
    "def rgb2gray(images):\n",
    "    images = np.dot(images[...,:3], [0.299, 0.587, 0.114])\n",
    "    images = np.reshape(images, (len(images), 32, 32, 1))\n",
    "    return images\n",
    "\n",
    "def _normalize(images):\n",
    "    return (images - 128) / 128\n",
    "\n",
    "def normalize(images):\n",
    "    return _normalize(rgb2gray(images))\n",
    "\n",
    "# Visualize before/after for inspection\n",
    "index = 19\n",
    "fig = plt.figure()\n",
    "\n",
    "# display: original\n",
    "ori_image = X_train[index].squeeze()\n",
    "before = fig.add_subplot(1, 2, 1)\n",
    "before.set_title('Original')\n",
    "before.imshow(ori_image)\n",
    "\n",
    "# pre-process\n",
    "X_train = normalize(X_train)\n",
    "X_valid = normalize(X_valid)\n",
    "X_test = normalize(X_test)\n",
    "\n",
    "# display: pre-processed\n",
    "norm_image = X_train[index].squeeze()\n",
    "after = fig.add_subplot(1, 2, 2)\n",
    "after.set_title('Pre-processed')\n",
    "after.imshow(norm_image)\n",
    "\n",
    "# show\n",
    "fig.show()"
   ]
  },
  {
   "cell_type": "markdown",
   "metadata": {},
   "source": [
    "### Model Architecture"
   ]
  },
  {
   "cell_type": "code",
   "execution_count": 9,
   "metadata": {
    "collapsed": true
   },
   "outputs": [],
   "source": [
    "### Define your architecture here.\n",
    "### Feel free to use as many code cells as needed.\n",
    "from tensorflow.contrib.layers import flatten\n",
    "\n",
    "def LeNet(x):    \n",
    "    # Arguments used for tf.truncated_normal, randomly defines variables for the weights and biases for each layer\n",
    "    mu = 0\n",
    "    sigma = 0.1\n",
    "\n",
    "    # Conv1\n",
    "    conv1_W = tf.Variable(tf.truncated_normal(shape=(3, 3, 1, 6), mean = mu, stddev = sigma))\n",
    "    conv1_b = tf.Variable(tf.zeros(6))\n",
    "    conv1   = tf.nn.conv2d(x, conv1_W, strides=[1, 1, 1, 1], padding='VALID') + conv1_b\n",
    "    print(conv1)\n",
    "    conv1 = tf.nn.relu(conv1)\n",
    "#     conv1 = tf.nn.max_pool(conv1, ksize=[1, 3, 3, 1], strides=[1, 2, 2, 1], padding='VALID')\n",
    "    conv1 = tf.nn.dropout(conv1, keep_prob=0.5)\n",
    "    print(conv1)\n",
    "    \n",
    "    # Conv2\n",
    "    conv2_W = tf.Variable(tf.truncated_normal(shape=(5, 5, 6, 16), mean = mu, stddev = sigma))\n",
    "    conv2_b = tf.Variable(tf.zeros(16))\n",
    "    conv2 = tf.nn.conv2d(conv1, conv2_W, strides=[1, 1, 1, 1], padding='VALID') + conv2_b\n",
    "    print(conv2)\n",
    "    conv2 = tf.nn.relu(conv2)\n",
    "    conv2 = tf.nn.max_pool(conv2, ksize=[1, 3, 3, 1], strides=[1, 2, 2, 1], padding='VALID')\n",
    "    conv2 = tf.nn.dropout(conv2, keep_prob=0.5)\n",
    "    print(conv2)\n",
    "    \n",
    "    # Conv3\n",
    "    conv3_W = tf.Variable(tf.truncated_normal(shape=(5, 5, 16, 64), mean=mu, stddev=sigma))\n",
    "    conv3_b = tf.Variable(tf.zeros(64))\n",
    "    conv3 = tf.nn.conv2d(conv2, conv3_W, strides=[1, 1, 1, 1], padding='VALID') + conv3_b\n",
    "    print(conv3)\n",
    "    conv3 = tf.nn.relu(conv3)\n",
    "    conv3 = tf.nn.max_pool(conv3, ksize=[1, 3, 3, 1], strides=[1, 2, 2, 1], padding='VALID')\n",
    "    conv3 = tf.nn.dropout(conv3, keep_prob=0.5)\n",
    "    print(conv3)\n",
    "\n",
    "    # Flatten\n",
    "    fc0   = flatten(conv3)\n",
    "    \n",
    "    # Fc1\n",
    "    fc1_W = tf.Variable(tf.truncated_normal(shape=(576, 1024), mean = mu, stddev = sigma))\n",
    "    fc1_b = tf.Variable(tf.zeros(1024))\n",
    "    fc1   = tf.matmul(fc0, fc1_W) + fc1_b\n",
    "    fc1    = tf.nn.relu(fc1)\n",
    "    fc1 = tf.nn.dropout(fc1, keep_prob=0.5)\n",
    "\n",
    "    # Fc2\n",
    "    fc2_W  = tf.Variable(tf.truncated_normal(shape=(1024, 1024), mean = mu, stddev = sigma))\n",
    "    fc2_b  = tf.Variable(tf.zeros(1024))\n",
    "    fc2    = tf.matmul(fc1, fc2_W) + fc2_b\n",
    "    fc2    = tf.nn.relu(fc2)\n",
    "    fc2    = tf.nn.dropout(fc2, keep_prob=0.5)\n",
    "    \n",
    "    # Output\n",
    "    out_W  = tf.Variable(tf.truncated_normal(shape=(1024, 43), mean = mu, stddev = sigma))\n",
    "    out_b  = tf.Variable(tf.zeros(43))\n",
    "    logits = tf.matmul(fc2, out_W) + out_b\n",
    "    \n",
    "    return logits"
   ]
  },
  {
   "cell_type": "markdown",
   "metadata": {},
   "source": [
    "### Train, Validate and Test the Model"
   ]
  },
  {
   "cell_type": "markdown",
   "metadata": {},
   "source": [
    "A validation set can be used to assess how well the model is performing. A low accuracy on the training and validation\n",
    "sets imply underfitting. A high accuracy on the training set but low accuracy on the validation set implies overfitting."
   ]
  },
  {
   "cell_type": "code",
   "execution_count": 11,
   "metadata": {
    "collapsed": true
   },
   "outputs": [],
   "source": [
    "### Train your model here.\n",
    "### Calculate and report the accuracy on the training and validation set.\n",
    "### Once a final model architecture is selected, \n",
    "### the accuracy on the test set should be calculated and reported as well.\n",
    "### Feel free to use as many code cells as needed."
   ]
  },
  {
   "cell_type": "markdown",
   "metadata": {},
   "source": [
    "## Features and Labels"
   ]
  },
  {
   "cell_type": "code",
   "execution_count": 12,
   "metadata": {
    "collapsed": true
   },
   "outputs": [],
   "source": [
    "x = tf.placeholder(tf.float32, (None, 32, 32, 1))\n",
    "y = tf.placeholder(tf.int32, (None))\n",
    "one_hot_y = tf.one_hot(y, 43)"
   ]
  },
  {
   "cell_type": "markdown",
   "metadata": {},
   "source": [
    "## Training Pipeline"
   ]
  },
  {
   "cell_type": "code",
   "execution_count": 13,
   "metadata": {},
   "outputs": [
    {
     "name": "stdout",
     "output_type": "stream",
     "text": [
      "Tensor(\"add:0\", shape=(?, 30, 30, 6), dtype=float32)\n",
      "Tensor(\"dropout/mul:0\", shape=(?, 30, 30, 6), dtype=float32)\n",
      "Tensor(\"add_1:0\", shape=(?, 26, 26, 16), dtype=float32)\n",
      "Tensor(\"dropout_1/mul:0\", shape=(?, 12, 12, 16), dtype=float32)\n",
      "Tensor(\"add_2:0\", shape=(?, 8, 8, 64), dtype=float32)\n",
      "Tensor(\"dropout_2/mul:0\", shape=(?, 3, 3, 64), dtype=float32)\n"
     ]
    }
   ],
   "source": [
    "rate = 0.0001\n",
    "\n",
    "logits = LeNet(x)\n",
    "cross_entropy = tf.nn.softmax_cross_entropy_with_logits(logits=logits, labels=one_hot_y)\n",
    "loss_operation = tf.reduce_mean(cross_entropy)\n",
    "optimizer = tf.train.AdamOptimizer(learning_rate=rate)\n",
    "training_operation = optimizer.minimize(loss_operation)"
   ]
  },
  {
   "cell_type": "markdown",
   "metadata": {},
   "source": [
    "## Model Evaluation"
   ]
  },
  {
   "cell_type": "code",
   "execution_count": 14,
   "metadata": {
    "collapsed": true
   },
   "outputs": [],
   "source": [
    "EPOCHS = 1000\n",
    "BATCH_SIZE = 512"
   ]
  },
  {
   "cell_type": "code",
   "execution_count": 15,
   "metadata": {
    "collapsed": true
   },
   "outputs": [],
   "source": [
    "correct = tf.equal(tf.argmax(logits, 1), tf.argmax(one_hot_y, 1))\n",
    "accuracy_op = tf.reduce_mean(tf.cast(correct, tf.float32))\n",
    "saver = tf.train.Saver()\n",
    "\n",
    "def evaluate(X_data, y_data):\n",
    "    n_examples = len(X_data)\n",
    "    total_accuracy = 0\n",
    "    sess = tf.get_default_session()\n",
    "    for offset in range(0, n_examples, BATCH_SIZE):\n",
    "        batch_x, batch_y = X_data[offset:offset+BATCH_SIZE], y_data[offset:offset+BATCH_SIZE]\n",
    "        accuracy = sess.run(accuracy_op, feed_dict={x: batch_x, y: batch_y})\n",
    "        total_accuracy += (accuracy * len(batch_x))\n",
    "    return total_accuracy / n_examples"
   ]
  },
  {
   "cell_type": "markdown",
   "metadata": {},
   "source": [
    "## Performance on Validation/Test Set"
   ]
  },
  {
   "cell_type": "code",
   "execution_count": 16,
   "metadata": {
    "scrolled": true
   },
   "outputs": [
    {
     "name": "stdout",
     "output_type": "stream",
     "text": [
      "Training...\n",
      "\n",
      "EPOCH 1 ...\n",
      "Test Accuracy = 0.038\n",
      "Validation Accuracy = 0.037\n",
      "Training Accuracy = 0.037\n",
      "\n",
      "EPOCH 21 ...\n",
      "Test Accuracy = 0.076\n",
      "Validation Accuracy = 0.073\n",
      "Training Accuracy = 0.082\n",
      "\n",
      "EPOCH 41 ...\n",
      "Test Accuracy = 0.184\n",
      "Validation Accuracy = 0.176\n",
      "Training Accuracy = 0.193\n",
      "\n",
      "EPOCH 61 ...\n",
      "Test Accuracy = 0.429\n",
      "Validation Accuracy = 0.426\n",
      "Training Accuracy = 0.467\n",
      "\n",
      "EPOCH 81 ...\n",
      "Test Accuracy = 0.568\n",
      "Validation Accuracy = 0.581\n",
      "Training Accuracy = 0.613\n",
      "\n",
      "EPOCH 101 ...\n",
      "Test Accuracy = 0.647\n",
      "Validation Accuracy = 0.655\n",
      "Training Accuracy = 0.708\n",
      "\n",
      "EPOCH 121 ...\n",
      "Test Accuracy = 0.719\n",
      "Validation Accuracy = 0.731\n",
      "Training Accuracy = 0.780\n",
      "\n",
      "EPOCH 141 ...\n",
      "Test Accuracy = 0.765\n",
      "Validation Accuracy = 0.775\n",
      "Training Accuracy = 0.829\n",
      "\n",
      "EPOCH 161 ...\n",
      "Test Accuracy = 0.794\n",
      "Validation Accuracy = 0.807\n",
      "Training Accuracy = 0.863\n",
      "\n",
      "EPOCH 181 ...\n",
      "Test Accuracy = 0.824\n",
      "Validation Accuracy = 0.836\n",
      "Training Accuracy = 0.885\n",
      "\n",
      "EPOCH 201 ...\n",
      "Test Accuracy = 0.843\n",
      "Validation Accuracy = 0.863\n",
      "Training Accuracy = 0.907\n",
      "\n",
      "EPOCH 221 ...\n",
      "Test Accuracy = 0.861\n",
      "Validation Accuracy = 0.868\n",
      "Training Accuracy = 0.917\n",
      "\n",
      "EPOCH 241 ...\n",
      "Test Accuracy = 0.871\n",
      "Validation Accuracy = 0.875\n",
      "Training Accuracy = 0.928\n",
      "\n",
      "EPOCH 261 ...\n",
      "Test Accuracy = 0.876\n",
      "Validation Accuracy = 0.888\n",
      "Training Accuracy = 0.932\n",
      "\n",
      "EPOCH 281 ...\n",
      "Test Accuracy = 0.885\n",
      "Validation Accuracy = 0.896\n",
      "Training Accuracy = 0.941\n",
      "\n",
      "EPOCH 301 ...\n",
      "Test Accuracy = 0.885\n",
      "Validation Accuracy = 0.903\n",
      "Training Accuracy = 0.945\n",
      "\n",
      "EPOCH 321 ...\n",
      "Test Accuracy = 0.894\n",
      "Validation Accuracy = 0.907\n",
      "Training Accuracy = 0.951\n",
      "\n",
      "EPOCH 341 ...\n",
      "Test Accuracy = 0.897\n",
      "Validation Accuracy = 0.905\n",
      "Training Accuracy = 0.954\n",
      "\n",
      "EPOCH 361 ...\n",
      "Test Accuracy = 0.902\n",
      "Validation Accuracy = 0.915\n",
      "Training Accuracy = 0.958\n",
      "\n",
      "EPOCH 381 ...\n",
      "Test Accuracy = 0.906\n",
      "Validation Accuracy = 0.913\n",
      "Training Accuracy = 0.961\n",
      "\n",
      "EPOCH 401 ...\n",
      "Test Accuracy = 0.908\n",
      "Validation Accuracy = 0.923\n",
      "Training Accuracy = 0.963\n",
      "\n",
      "EPOCH 421 ...\n",
      "Test Accuracy = 0.905\n",
      "Validation Accuracy = 0.923\n",
      "Training Accuracy = 0.963\n",
      "\n",
      "EPOCH 441 ...\n",
      "Test Accuracy = 0.913\n",
      "Validation Accuracy = 0.924\n",
      "Training Accuracy = 0.967\n",
      "\n",
      "EPOCH 461 ...\n",
      "Test Accuracy = 0.914\n",
      "Validation Accuracy = 0.927\n",
      "Training Accuracy = 0.968\n",
      "\n",
      "EPOCH 481 ...\n",
      "Test Accuracy = 0.914\n",
      "Validation Accuracy = 0.927\n",
      "Training Accuracy = 0.969\n",
      "\n",
      "EPOCH 501 ...\n",
      "Test Accuracy = 0.914\n",
      "Validation Accuracy = 0.931\n",
      "Training Accuracy = 0.969\n",
      "\n",
      "EPOCH 521 ...\n",
      "Test Accuracy = 0.917\n",
      "Validation Accuracy = 0.927\n",
      "Training Accuracy = 0.973\n",
      "\n",
      "EPOCH 541 ...\n",
      "Test Accuracy = 0.916\n",
      "Validation Accuracy = 0.928\n",
      "Training Accuracy = 0.973\n",
      "\n",
      "EPOCH 561 ...\n",
      "Test Accuracy = 0.921\n",
      "Validation Accuracy = 0.933\n",
      "Training Accuracy = 0.975\n",
      "\n",
      "EPOCH 581 ...\n",
      "Test Accuracy = 0.916\n",
      "Validation Accuracy = 0.934\n",
      "Training Accuracy = 0.974\n",
      "\n",
      "EPOCH 601 ...\n",
      "Test Accuracy = 0.920\n",
      "Validation Accuracy = 0.942\n",
      "Training Accuracy = 0.975\n",
      "\n",
      "EPOCH 621 ...\n",
      "Test Accuracy = 0.921\n",
      "Validation Accuracy = 0.934\n",
      "Training Accuracy = 0.978\n",
      "\n",
      "EPOCH 641 ...\n",
      "Test Accuracy = 0.921\n",
      "Validation Accuracy = 0.942\n",
      "Training Accuracy = 0.976\n",
      "\n",
      "EPOCH 661 ...\n",
      "Test Accuracy = 0.923\n",
      "Validation Accuracy = 0.937\n",
      "Training Accuracy = 0.979\n",
      "\n",
      "EPOCH 681 ...\n",
      "Test Accuracy = 0.925\n",
      "Validation Accuracy = 0.939\n",
      "Training Accuracy = 0.979\n",
      "\n",
      "EPOCH 701 ...\n",
      "Test Accuracy = 0.924\n",
      "Validation Accuracy = 0.937\n",
      "Training Accuracy = 0.979\n",
      "\n",
      "EPOCH 721 ...\n",
      "Test Accuracy = 0.923\n",
      "Validation Accuracy = 0.938\n",
      "Training Accuracy = 0.979\n",
      "\n",
      "EPOCH 741 ...\n",
      "Test Accuracy = 0.927\n",
      "Validation Accuracy = 0.941\n",
      "Training Accuracy = 0.980\n",
      "\n",
      "EPOCH 761 ...\n",
      "Test Accuracy = 0.927\n",
      "Validation Accuracy = 0.944\n",
      "Training Accuracy = 0.980\n",
      "\n",
      "EPOCH 781 ...\n",
      "Test Accuracy = 0.928\n",
      "Validation Accuracy = 0.937\n",
      "Training Accuracy = 0.980\n",
      "\n",
      "EPOCH 801 ...\n",
      "Test Accuracy = 0.926\n",
      "Validation Accuracy = 0.941\n",
      "Training Accuracy = 0.982\n",
      "\n",
      "EPOCH 821 ...\n",
      "Test Accuracy = 0.928\n",
      "Validation Accuracy = 0.944\n",
      "Training Accuracy = 0.983\n",
      "\n",
      "EPOCH 841 ...\n",
      "Test Accuracy = 0.927\n",
      "Validation Accuracy = 0.948\n",
      "Training Accuracy = 0.984\n",
      "\n",
      "EPOCH 861 ...\n",
      "Test Accuracy = 0.926\n",
      "Validation Accuracy = 0.945\n",
      "Training Accuracy = 0.983\n",
      "\n",
      "EPOCH 881 ...\n",
      "Test Accuracy = 0.928\n",
      "Validation Accuracy = 0.946\n",
      "Training Accuracy = 0.983\n",
      "\n",
      "EPOCH 901 ...\n",
      "Test Accuracy = 0.931\n",
      "Validation Accuracy = 0.944\n",
      "Training Accuracy = 0.983\n",
      "\n",
      "EPOCH 921 ...\n",
      "Test Accuracy = 0.931\n",
      "Validation Accuracy = 0.954\n",
      "Training Accuracy = 0.984\n",
      "\n",
      "EPOCH 941 ...\n",
      "Test Accuracy = 0.931\n",
      "Validation Accuracy = 0.946\n",
      "Training Accuracy = 0.985\n",
      "\n",
      "EPOCH 961 ...\n",
      "Test Accuracy = 0.926\n",
      "Validation Accuracy = 0.943\n",
      "Training Accuracy = 0.985\n",
      "\n",
      "EPOCH 981 ...\n",
      "Test Accuracy = 0.930\n",
      "Validation Accuracy = 0.951\n",
      "Training Accuracy = 0.985\n",
      "\n",
      "EPOCH 1001 ...\n",
      "Test Accuracy = 0.932\n",
      "Validation Accuracy = 0.947\n",
      "Training Accuracy = 0.985\n",
      "\n",
      "EPOCH 1021 ...\n",
      "Test Accuracy = 0.933\n",
      "Validation Accuracy = 0.948\n",
      "Training Accuracy = 0.986\n",
      "\n",
      "EPOCH 1041 ...\n",
      "Test Accuracy = 0.934\n",
      "Validation Accuracy = 0.948\n",
      "Training Accuracy = 0.986\n",
      "\n",
      "EPOCH 1061 ...\n",
      "Test Accuracy = 0.930\n",
      "Validation Accuracy = 0.948\n",
      "Training Accuracy = 0.986\n",
      "\n",
      "EPOCH 1081 ...\n",
      "Test Accuracy = 0.932\n",
      "Validation Accuracy = 0.951\n",
      "Training Accuracy = 0.986\n",
      "\n",
      "EPOCH 1101 ...\n",
      "Test Accuracy = 0.932\n",
      "Validation Accuracy = 0.943\n",
      "Training Accuracy = 0.987\n",
      "\n",
      "EPOCH 1121 ...\n",
      "Test Accuracy = 0.934\n",
      "Validation Accuracy = 0.948\n",
      "Training Accuracy = 0.986\n",
      "\n",
      "EPOCH 1141 ...\n",
      "Test Accuracy = 0.934\n",
      "Validation Accuracy = 0.946\n",
      "Training Accuracy = 0.986\n",
      "\n",
      "EPOCH 1161 ...\n",
      "Test Accuracy = 0.932\n",
      "Validation Accuracy = 0.946\n",
      "Training Accuracy = 0.987\n",
      "\n",
      "EPOCH 1181 ...\n",
      "Test Accuracy = 0.936\n",
      "Validation Accuracy = 0.947\n",
      "Training Accuracy = 0.988\n",
      "\n",
      "EPOCH 1201 ...\n",
      "Test Accuracy = 0.931\n",
      "Validation Accuracy = 0.945\n",
      "Training Accuracy = 0.987\n",
      "\n",
      "EPOCH 1221 ...\n",
      "Test Accuracy = 0.935\n",
      "Validation Accuracy = 0.941\n",
      "Training Accuracy = 0.988\n",
      "\n",
      "EPOCH 1241 ...\n",
      "Test Accuracy = 0.933\n",
      "Validation Accuracy = 0.953\n",
      "Training Accuracy = 0.986\n",
      "\n",
      "EPOCH 1261 ...\n",
      "Test Accuracy = 0.933\n",
      "Validation Accuracy = 0.950\n",
      "Training Accuracy = 0.987\n",
      "\n",
      "EPOCH 1281 ...\n",
      "Test Accuracy = 0.933\n",
      "Validation Accuracy = 0.950\n",
      "Training Accuracy = 0.988\n",
      "\n",
      "EPOCH 1301 ...\n",
      "Test Accuracy = 0.935\n",
      "Validation Accuracy = 0.948\n",
      "Training Accuracy = 0.987\n",
      "\n",
      "EPOCH 1321 ...\n",
      "Test Accuracy = 0.931\n",
      "Validation Accuracy = 0.948\n",
      "Training Accuracy = 0.988\n",
      "\n",
      "EPOCH 1341 ...\n",
      "Test Accuracy = 0.936\n",
      "Validation Accuracy = 0.949\n",
      "Training Accuracy = 0.988\n",
      "\n",
      "EPOCH 1361 ...\n",
      "Test Accuracy = 0.935\n",
      "Validation Accuracy = 0.948\n",
      "Training Accuracy = 0.988\n",
      "\n",
      "EPOCH 1381 ...\n",
      "Test Accuracy = 0.935\n",
      "Validation Accuracy = 0.952\n",
      "Training Accuracy = 0.988\n",
      "\n",
      "EPOCH 1401 ...\n",
      "Test Accuracy = 0.934\n",
      "Validation Accuracy = 0.946\n",
      "Training Accuracy = 0.988\n",
      "\n",
      "EPOCH 1421 ...\n",
      "Test Accuracy = 0.932\n",
      "Validation Accuracy = 0.952\n",
      "Training Accuracy = 0.989\n",
      "\n",
      "EPOCH 1441 ...\n",
      "Test Accuracy = 0.935\n",
      "Validation Accuracy = 0.951\n",
      "Training Accuracy = 0.989\n",
      "\n",
      "EPOCH 1461 ...\n",
      "Test Accuracy = 0.937\n",
      "Validation Accuracy = 0.944\n",
      "Training Accuracy = 0.989\n",
      "\n",
      "EPOCH 1481 ...\n",
      "Test Accuracy = 0.936\n",
      "Validation Accuracy = 0.946\n",
      "Training Accuracy = 0.989\n",
      "\n",
      "EPOCH 1501 ...\n",
      "Test Accuracy = 0.935\n",
      "Validation Accuracy = 0.946\n",
      "Training Accuracy = 0.989\n",
      "\n",
      "EPOCH 1521 ...\n",
      "Test Accuracy = 0.938\n",
      "Validation Accuracy = 0.952\n",
      "Training Accuracy = 0.989\n",
      "\n",
      "EPOCH 1541 ...\n",
      "Test Accuracy = 0.934\n",
      "Validation Accuracy = 0.942\n",
      "Training Accuracy = 0.989\n",
      "\n",
      "EPOCH 1561 ...\n",
      "Test Accuracy = 0.935\n",
      "Validation Accuracy = 0.949\n",
      "Training Accuracy = 0.991\n",
      "\n",
      "EPOCH 1581 ...\n",
      "Test Accuracy = 0.937\n",
      "Validation Accuracy = 0.954\n",
      "Training Accuracy = 0.990\n",
      "\n",
      "EPOCH 1601 ...\n",
      "Test Accuracy = 0.939\n",
      "Validation Accuracy = 0.951\n",
      "Training Accuracy = 0.990\n",
      "\n",
      "EPOCH 1621 ...\n",
      "Test Accuracy = 0.936\n",
      "Validation Accuracy = 0.951\n",
      "Training Accuracy = 0.990\n",
      "\n",
      "EPOCH 1641 ...\n",
      "Test Accuracy = 0.935\n",
      "Validation Accuracy = 0.953\n",
      "Training Accuracy = 0.990\n",
      "\n",
      "EPOCH 1661 ...\n",
      "Test Accuracy = 0.934\n",
      "Validation Accuracy = 0.953\n",
      "Training Accuracy = 0.989\n",
      "\n",
      "EPOCH 1681 ...\n",
      "Test Accuracy = 0.936\n",
      "Validation Accuracy = 0.947\n",
      "Training Accuracy = 0.989\n",
      "\n",
      "EPOCH 1701 ...\n",
      "Test Accuracy = 0.938\n",
      "Validation Accuracy = 0.951\n",
      "Training Accuracy = 0.991\n",
      "\n",
      "EPOCH 1721 ...\n",
      "Test Accuracy = 0.935\n",
      "Validation Accuracy = 0.952\n",
      "Training Accuracy = 0.989\n",
      "\n",
      "EPOCH 1741 ...\n",
      "Test Accuracy = 0.935\n",
      "Validation Accuracy = 0.956\n",
      "Training Accuracy = 0.989\n",
      "\n",
      "EPOCH 1761 ...\n",
      "Test Accuracy = 0.938\n",
      "Validation Accuracy = 0.952\n",
      "Training Accuracy = 0.990\n",
      "\n",
      "EPOCH 1781 ...\n",
      "Test Accuracy = 0.936\n",
      "Validation Accuracy = 0.950\n",
      "Training Accuracy = 0.990\n",
      "\n"
     ]
    },
    {
     "name": "stdout",
     "output_type": "stream",
     "text": [
      "EPOCH 1801 ...\n",
      "Test Accuracy = 0.937\n",
      "Validation Accuracy = 0.953\n",
      "Training Accuracy = 0.990\n",
      "\n",
      "EPOCH 1821 ...\n",
      "Test Accuracy = 0.938\n",
      "Validation Accuracy = 0.953\n",
      "Training Accuracy = 0.990\n",
      "\n",
      "EPOCH 1841 ...\n",
      "Test Accuracy = 0.935\n",
      "Validation Accuracy = 0.952\n",
      "Training Accuracy = 0.992\n",
      "\n",
      "EPOCH 1861 ...\n",
      "Test Accuracy = 0.937\n",
      "Validation Accuracy = 0.948\n",
      "Training Accuracy = 0.991\n",
      "\n",
      "EPOCH 1881 ...\n",
      "Test Accuracy = 0.938\n",
      "Validation Accuracy = 0.954\n",
      "Training Accuracy = 0.991\n",
      "\n",
      "EPOCH 1901 ...\n",
      "Test Accuracy = 0.937\n",
      "Validation Accuracy = 0.953\n",
      "Training Accuracy = 0.991\n",
      "\n",
      "EPOCH 1921 ...\n",
      "Test Accuracy = 0.935\n",
      "Validation Accuracy = 0.946\n",
      "Training Accuracy = 0.991\n",
      "\n",
      "EPOCH 1941 ...\n",
      "Test Accuracy = 0.939\n",
      "Validation Accuracy = 0.950\n",
      "Training Accuracy = 0.990\n",
      "\n",
      "EPOCH 1961 ...\n",
      "Test Accuracy = 0.937\n",
      "Validation Accuracy = 0.955\n",
      "Training Accuracy = 0.991\n",
      "\n",
      "EPOCH 1981 ...\n",
      "Test Accuracy = 0.935\n",
      "Validation Accuracy = 0.953\n",
      "Training Accuracy = 0.991\n",
      "\n",
      "[Final Scores]\n",
      "Training Accuracy = 0.992\n",
      "Validation Accuracy = 0.951\n",
      "Test Accuracy = 0.937\n",
      "\n",
      "Model saved\n"
     ]
    }
   ],
   "source": [
    "with tf.Session() as sess:\n",
    "    sess.run(tf.global_variables_initializer())\n",
    "    num_examples = len(X_train)\n",
    "    \n",
    "    print(\"Training...\")\n",
    "    print()\n",
    "    for i in range(EPOCHS):\n",
    "        X_train, y_train = shuffle(X_train, y_train)\n",
    "        for offset in range(0, num_examples, BATCH_SIZE):\n",
    "            end = offset + BATCH_SIZE\n",
    "            batch_x, batch_y = X_train[offset:end], y_train[offset:end]\n",
    "            sess.run(training_operation, feed_dict={x: batch_x, y: batch_y})\n",
    "            \n",
    "        validation_accuracy = evaluate(X_valid, y_valid)\n",
    "        train_accuracy = evaluate(X_train, y_train)\n",
    "        test_accuracy = evaluate(X_test, y_test)\n",
    "        if (i % 20) == 0:\n",
    "            print(\"EPOCH {} ...\".format(i+1))\n",
    "            print(\"Test Accuracy = {:.3f}\".format(test_accuracy))\n",
    "            print(\"Validation Accuracy = {:.3f}\".format(validation_accuracy))\n",
    "            print(\"Training Accuracy = {:.3f}\".format(train_accuracy))\n",
    "            print()\n",
    "    \n",
    "    # Final scores\n",
    "    print(\"[Final Scores]\")\n",
    "    \n",
    "    ## Train\n",
    "    validation_accuracy = evaluate(X_valid, y_valid)\n",
    "    print(\"Training Accuracy = {:.3f}\".format(train_accuracy))\n",
    "    \n",
    "    ## Validation\n",
    "    print(\"Validation Accuracy = {:.3f}\".format(validation_accuracy))\n",
    "    \n",
    "    ## Test\n",
    "    print(\"Test Accuracy = {:.3f}\".format(test_accuracy))\n",
    "    print()\n",
    "        \n",
    "    saver.save(sess, './models/model.ckpt')\n",
    "    print(\"Model saved\")"
   ]
  },
  {
   "cell_type": "markdown",
   "metadata": {},
   "source": [
    "---\n",
    "\n",
    "## Step 3: Test a Model on New Images\n",
    "\n",
    "To give yourself more insight into how your model is working, download at least five pictures of German traffic signs from the web and use your model to predict the traffic sign type.\n",
    "\n",
    "You may find `signnames.csv` useful as it contains mappings from the class id (integer) to the actual sign name."
   ]
  },
  {
   "cell_type": "markdown",
   "metadata": {},
   "source": [
    "### Load and Output the Images"
   ]
  },
  {
   "cell_type": "code",
   "execution_count": 1,
   "metadata": {
    "collapsed": true
   },
   "outputs": [],
   "source": [
    "### Load the images and plot them here.\n",
    "### Feel free to use as many code cells as needed."
   ]
  },
  {
   "cell_type": "code",
   "execution_count": 2,
   "metadata": {
    "collapsed": true
   },
   "outputs": [],
   "source": [
    "# Generate my live data\n",
    "import os\n",
    "import pickle\n",
    "from scipy import misc\n",
    "\n",
    "def generate_live_data():\n",
    "    live = {}\n",
    "    live['features'] = []\n",
    "    live['labels'] = []\n",
    "\n",
    "    for i in range(0, 5):\n",
    "        fpath = os.path.join('./live/{}.jpg'.format(i+1))\n",
    "        img = misc.imread(fpath)\n",
    "        live['features'].append(img)\n",
    "\n",
    "    # 1.jpg - 14 (stop)\n",
    "    live['labels'].append(14)\n",
    "    # 2.jpg - 1 (30km/h)\n",
    "    live['labels'].append(1)\n",
    "    # 3.jpg - 25 (Road work)\n",
    "    live['labels'].append(25)\n",
    "    # 4.jpg - 3 (60km/h)\n",
    "    live['labels'].append(3)\n",
    "    # 5.jpg - 7 (100km/h)\n",
    "    live['labels'].append(7)\n",
    "    \n",
    "    # turn into ndarray\n",
    "    live['features'] = np.array(live['features'])\n",
    "    live['labels'] = np.array(live['labels'])\n",
    "\n",
    "    # Save as pickle\n",
    "    with open('./live/live.p', 'wb') as fout:\n",
    "        pickle.dump(live, fout)\n",
    "        \n",
    "# execute\n",
    "# generate_live_data()"
   ]
  },
  {
   "cell_type": "code",
   "execution_count": 3,
   "metadata": {
    "scrolled": true
   },
   "outputs": [
    {
     "name": "stdout",
     "output_type": "stream",
     "text": [
      "14\n",
      "1\n",
      "25\n",
      "3\n",
      "7\n"
     ]
    },
    {
     "data": {
      "image/png": "[encoded data removed]",
      "text/plain": [
       "<matplotlib.figure.Figure at 0x112063ba8>"
      ]
     },
     "metadata": {},
     "output_type": "display_data"
    },
    {
     "data": {
      "image/png": "[encoded data removed]",
      "text/plain": [
       "<matplotlib.figure.Figure at 0x112c9acc0>"
      ]
     },
     "metadata": {},
     "output_type": "display_data"
    },
    {
     "data": {
      "image/png": "[encoded data removed]",
      "text/plain": [
       "<matplotlib.figure.Figure at 0x112083710>"
      ]
     },
     "metadata": {},
     "output_type": "display_data"
    },
    {
     "data": {
      "image/png": "[encoded data removed]",
      "text/plain": [
       "<matplotlib.figure.Figure at 0x1120836a0>"
      ]
     },
     "metadata": {},
     "output_type": "display_data"
    },
    {
     "data": {
      "image/png": "[encoded data removed]",
      "text/plain": [
       "<matplotlib.figure.Figure at 0x1120a7f98>"
      ]
     },
     "metadata": {},
     "output_type": "display_data"
    }
   ],
   "source": [
    "import pickle\n",
    "import matplotlib.pyplot as plt\n",
    "import random\n",
    "%matplotlib inline\n",
    "\n",
    "with open('./live/live.p', 'rb') as fin:\n",
    "    live = pickle.load(fin)\n",
    "\n",
    "len(live['features'])\n",
    "    \n",
    "for i in range(0, 5):\n",
    "    img = live['features'][i]\n",
    "    plt.figure(figsize=(1,1))\n",
    "    plt.imshow(img)\n",
    "    print(live['labels'][i])"
   ]
  },
  {
   "cell_type": "markdown",
   "metadata": {},
   "source": [
    "### Predict the Sign Type for Each Image"
   ]
  },
  {
   "cell_type": "code",
   "execution_count": 4,
   "metadata": {
    "collapsed": true
   },
   "outputs": [],
   "source": [
    "### Run the predictions here and use the model to output the prediction for each image.\n",
    "### Make sure to pre-process the images with the same pre-processing pipeline used earlier.\n",
    "### Feel free to use as many code cells as needed."
   ]
  },
  {
   "cell_type": "markdown",
   "metadata": {},
   "source": [
    "#### pre-process"
   ]
  },
  {
   "cell_type": "code",
   "execution_count": 5,
   "metadata": {
    "collapsed": true
   },
   "outputs": [],
   "source": [
    "### Preprocess the data here. It is required to normalize the data. Other preprocessing steps could include \n",
    "### converting to grayscale, etc.\n",
    "### Feel free to use as many code cells as needed.\n",
    "import tensorflow as tf\n",
    "import numpy as np\n",
    "\n",
    "def rgb2gray(images):\n",
    "    images = np.dot(images[...,:3], [0.299, 0.587, 0.114])\n",
    "    images = np.reshape(images, (len(images), 32, 32, 1))\n",
    "    return images\n",
    "\n",
    "def _normalize(images):\n",
    "    return (images - 128) / 128\n",
    "\n",
    "def normalize(images):\n",
    "    return _normalize(rgb2gray(images))\n",
    "#     return _normalize(img)"
   ]
  },
  {
   "cell_type": "code",
   "execution_count": 6,
   "metadata": {
    "collapsed": true
   },
   "outputs": [],
   "source": [
    "X_live = np.array(normalize(live['features']))\n",
    "y_live = live['labels'].copy()"
   ]
  },
  {
   "cell_type": "markdown",
   "metadata": {},
   "source": [
    "### Analyze Performance"
   ]
  },
  {
   "cell_type": "code",
   "execution_count": 7,
   "metadata": {
    "collapsed": true
   },
   "outputs": [],
   "source": [
    "### Calculate the accuracy for these 5 new images. \n",
    "### For example, if the model predicted 1 out of 5 signs correctly, it's 20% accurate on these new images."
   ]
  },
  {
   "cell_type": "code",
   "execution_count": 10,
   "metadata": {},
   "outputs": [
    {
     "name": "stdout",
     "output_type": "stream",
     "text": [
      "Tensor(\"add:0\", shape=(?, 30, 30, 6), dtype=float32)\n",
      "Tensor(\"dropout/mul:0\", shape=(?, 30, 30, 6), dtype=float32)\n",
      "Tensor(\"add_1:0\", shape=(?, 26, 26, 16), dtype=float32)\n",
      "Tensor(\"dropout_1/mul:0\", shape=(?, 12, 12, 16), dtype=float32)\n",
      "Tensor(\"add_2:0\", shape=(?, 8, 8, 64), dtype=float32)\n",
      "Tensor(\"dropout_2/mul:0\", shape=(?, 3, 3, 64), dtype=float32)\n",
      "INFO:tensorflow:Restoring parameters from ./models/model.ckpt\n",
      "Evaluating on live data...\n",
      "\n",
      "Live Accuracy = 0.800\n"
     ]
    }
   ],
   "source": [
    "tf.reset_default_graph()\n",
    "\n",
    "x = tf.placeholder(tf.float32, (None, 32, 32, 1))\n",
    "y = tf.placeholder(tf.int32, (None))\n",
    "one_hot_y = tf.one_hot(y, 43)\n",
    "\n",
    "logits = LeNet(x)\n",
    "correct = tf.equal(tf.argmax(logits, 1), tf.argmax(one_hot_y, 1))\n",
    "accuracy_op = tf.reduce_mean(tf.cast(correct, tf.float32))\n",
    "saver = tf.train.Saver()\n",
    "\n",
    "def evaluate_live(X_data, y_data):\n",
    "    n_examples = len(X_data)\n",
    "    sess = tf.get_default_session()\n",
    "    accuracy = sess.run(accuracy_op, feed_dict={x: X_data, y: y_data})\n",
    "    return accuracy\n",
    "\n",
    "with tf.Session() as sess:\n",
    "    saver.restore(sess, './models/model.ckpt')\n",
    "    num_examples = len(X_live)\n",
    "    \n",
    "    print(\"Evaluating on live data...\")\n",
    "    print()\n",
    "    live_accuracy = evaluate_live(X_live, y_live)\n",
    "    print(\"Live Accuracy = {:.3f}\".format(live_accuracy))"
   ]
  },
  {
   "cell_type": "markdown",
   "metadata": {},
   "source": [
    "### Output Top 5 Softmax Probabilities For Each Image Found on the Web"
   ]
  },
  {
   "cell_type": "markdown",
   "metadata": {},
   "source": [
    "For each of the new images, print out the model's softmax probabilities to show the **certainty** of the model's predictions (limit the output to the top 5 probabilities for each image). [`tf.nn.top_k`](https://www.tensorflow.org/versions/r0.12/api_docs/python/nn.html#top_k) could prove helpful here. \n",
    "\n",
    "The example below demonstrates how tf.nn.top_k can be used to find the top k predictions for each image.\n",
    "\n",
    "`tf.nn.top_k` will return the values and indices (class ids) of the top k predictions. So if k=3, for each sign, it'll return the 3 largest probabilities (out of a possible 43) and the correspoding class ids.\n",
    "\n",
    "Take this numpy array as an example. The values in the array represent predictions. The array contains softmax probabilities for five candidate images with six possible classes. `tf.nn.top_k` is used to choose the three classes with the highest probability:\n",
    "\n",
    "```\n",
    "# (5, 6) array\n",
    "a = np.array([[ 0.24879643,  0.07032244,  0.12641572,  0.34763842,  0.07893497,\n",
    "         0.12789202],\n",
    "       [ 0.28086119,  0.27569815,  0.08594638,  0.0178669 ,  0.18063401,\n",
    "         0.15899337],\n",
    "       [ 0.26076848,  0.23664738,  0.08020603,  0.07001922,  0.1134371 ,\n",
    "         0.23892179],\n",
    "       [ 0.11943333,  0.29198961,  0.02605103,  0.26234032,  0.1351348 ,\n",
    "         0.16505091],\n",
    "       [ 0.09561176,  0.34396535,  0.0643941 ,  0.16240774,  0.24206137,\n",
    "         0.09155967]])\n",
    "```\n",
    "\n",
    "Running it through `sess.run(tf.nn.top_k(tf.constant(a), k=3))` produces:\n",
    "\n",
    "```\n",
    "TopKV2(values=array([[ 0.34763842,  0.24879643,  0.12789202],\n",
    "       [ 0.28086119,  0.27569815,  0.18063401],\n",
    "       [ 0.26076848,  0.23892179,  0.23664738],\n",
    "       [ 0.29198961,  0.26234032,  0.16505091],\n",
    "       [ 0.34396535,  0.24206137,  0.16240774]]), indices=array([[3, 0, 5],\n",
    "       [0, 1, 4],\n",
    "       [0, 5, 1],\n",
    "       [1, 3, 5],\n",
    "       [1, 4, 3]], dtype=int32))\n",
    "```\n",
    "\n",
    "Looking just at the first row we get `[ 0.34763842,  0.24879643,  0.12789202]`, you can confirm these are the 3 largest probabilities in `a`. You'll also notice `[3, 0, 5]` are the corresponding indices."
   ]
  },
  {
   "cell_type": "code",
   "execution_count": 11,
   "metadata": {},
   "outputs": [
    {
     "name": "stdout",
     "output_type": "stream",
     "text": [
      "Tensor(\"add:0\", shape=(?, 30, 30, 6), dtype=float32)\n",
      "Tensor(\"dropout/mul:0\", shape=(?, 30, 30, 6), dtype=float32)\n",
      "Tensor(\"add_1:0\", shape=(?, 26, 26, 16), dtype=float32)\n",
      "Tensor(\"dropout_1/mul:0\", shape=(?, 12, 12, 16), dtype=float32)\n",
      "Tensor(\"add_2:0\", shape=(?, 8, 8, 64), dtype=float32)\n",
      "Tensor(\"dropout_2/mul:0\", shape=(?, 3, 3, 64), dtype=float32)\n",
      "INFO:tensorflow:Restoring parameters from ./models/model.ckpt\n",
      "Printing top 5 softmax probabilities...\n",
      "\n",
      "TopKV2(values=array([[  9.90631163e-01,   3.49369366e-03,   2.48684827e-03,\n",
      "          1.06390496e-03,   9.21544270e-04],\n",
      "       [  9.99988198e-01,   7.80880237e-06,   4.01510215e-06,\n",
      "          6.75428713e-10,   1.43042203e-10],\n",
      "       [  9.92380917e-01,   7.19276350e-03,   4.08530119e-04,\n",
      "          1.61834942e-05,   6.94689504e-07],\n",
      "       [  6.07793510e-01,   2.64088631e-01,   1.27192736e-01,\n",
      "          6.27321308e-04,   1.96497916e-04],\n",
      "       [  9.78544056e-01,   1.16698183e-02,   8.27945396e-03,\n",
      "          1.44833140e-03,   4.91796964e-05]], dtype=float32), indices=array([[14, 12, 13,  1,  2],\n",
      "       [ 1, 14,  0, 38, 18],\n",
      "       [25, 11, 29, 28, 24],\n",
      "       [ 3, 38,  1,  2,  5],\n",
      "       [ 1,  8,  0,  4, 18]], dtype=int32))\n"
     ]
    }
   ],
   "source": [
    "### Print out the top five softmax probabilities for the predictions on the German traffic sign images found on the web. \n",
    "### Feel free to use as many code cells as needed.\n",
    "tf.reset_default_graph()\n",
    "\n",
    "x = tf.placeholder(tf.float32, (None, 32, 32, 1))\n",
    "y = tf.placeholder(tf.int32, (None))\n",
    "one_hot_y = tf.one_hot(y, 43)\n",
    "\n",
    "logits = LeNet(x)\n",
    "probs_op = tf.nn.softmax(logits)\n",
    "top_5_op = tf.nn.top_k(probs_op, k=5)\n",
    "saver = tf.train.Saver()\n",
    "\n",
    "# save results as variable for viz\n",
    "values = None\n",
    "indices = None\n",
    "\n",
    "with tf.Session() as sess:\n",
    "    saver.restore(sess, './models/model.ckpt')\n",
    "    print(\"Printing top 5 softmax probabilities...\")\n",
    "    print()\n",
    "    res = sess.run(top_5_op, feed_dict={x: X_live, y: y_live})\n",
    "    print(res)\n",
    "    values, indices = res.values, res.indices"
   ]
  },
  {
   "cell_type": "code",
   "execution_count": 21,
   "metadata": {
    "scrolled": true
   },
   "outputs": [],
   "source": [
    "import pandas as pd\n",
    "\n",
    "df_signs = pd.read_csv('./signnames.csv').set_index('ClassId')\n",
    "def get_signname_by_id(cid):\n",
    "    return df_signs.loc[cid]['SignName']"
   ]
  },
  {
   "cell_type": "code",
   "execution_count": 48,
   "metadata": {
    "scrolled": true
   },
   "outputs": [
    {
     "data": {
      "image/png": "[encoded data removed]",
      "text/plain": [
       "<matplotlib.figure.Figure at 0x120bff518>"
      ]
     },
     "metadata": {},
     "output_type": "display_data"
    },
    {
     "data": {
      "image/png": "[encoded data removed]",
      "text/plain": [
       "<matplotlib.figure.Figure at 0x112f81c18>"
      ]
     },
     "metadata": {},
     "output_type": "display_data"
    },
    {
     "data": {
      "image/png": "[encoded data removed]",
      "text/plain": [
       "<matplotlib.figure.Figure at 0x1201ebdd8>"
      ]
     },
     "metadata": {},
     "output_type": "display_data"
    },
    {
     "data": {
      "image/png": "[encoded data removed]",
      "text/plain": [
       "<matplotlib.figure.Figure at 0x11331c080>"
      ]
     },
     "metadata": {},
     "output_type": "display_data"
    },
    {
     "data": {
      "image/png": "[encoded data removed]",
      "text/plain": [
       "<matplotlib.figure.Figure at 0x1131cf940>"
      ]
     },
     "metadata": {},
     "output_type": "display_data"
    }
   ],
   "source": [
    "import numpy as np\n",
    "import matplotlib.pyplot as plt\n",
    "\n",
    "N = len(values)\n",
    "ind = np.arange(N)\n",
    "\n",
    "for i in ind:\n",
    "    fig, (ax1, ax2) = plt.subplots(1, 2, figsize=(10, 5))\n",
    "    ax1.set_title('Image')\n",
    "    ax1.imshow(live['features'][i])\n",
    "    class_probs = values[i]\n",
    "    class_indices = [get_signname_by_id(idx) for idx in indices[i]]\n",
    "    ax2.set_title('Probs.')\n",
    "    for tick in ax2.get_xticklabels():\n",
    "        tick.set_rotation(45)\n",
    "    ax2.bar(ind, class_probs, width=0.35, tick_label=class_indices)"
   ]
  },
  {
   "cell_type": "code",
   "execution_count": null,
   "metadata": {
    "collapsed": true
   },
   "outputs": [],
   "source": [
    "\"\"\"\n",
    "========\n",
    "Barchart\n",
    "========\n",
    "\n",
    "A bar plot with errorbars and height labels on individual bars\n",
    "\"\"\"\n",
    "import numpy as np\n",
    "import matplotlib.pyplot as plt\n",
    "\n",
    "N = 5\n",
    "men_means = (20, 35, 30, 35, 27)\n",
    "men_std = (2, 3, 4, 1, 2)\n",
    "\n",
    "ind = np.arange(N)  # the x locations for the groups\n",
    "width = 0.35       # the width of the bars\n",
    "\n",
    "fig, ax = plt.subplots()\n",
    "rects1 = ax.bar(ind, men_means, width, color='r', yerr=men_std)\n",
    "\n",
    "women_means = (25, 32, 34, 20, 25)\n",
    "women_std = (3, 5, 2, 3, 3)\n",
    "rects2 = ax.bar(ind + width, women_means, width, color='y', yerr=women_std)\n",
    "\n",
    "# add some text for labels, title and axes ticks\n",
    "ax.set_ylabel('Scores')\n",
    "ax.set_title('Scores by group and gender')\n",
    "ax.set_xticks(ind + width / 2)\n",
    "ax.set_xticklabels(('G1', 'G2', 'G3', 'G4', 'G5'))\n",
    "\n",
    "ax.legend((rects1[0], rects2[0]), ('Men', 'Women'))\n",
    "\n",
    "\n",
    "def autolabel(rects):\n",
    "    \"\"\"\n",
    "    Attach a text label above each bar displaying its height\n",
    "    \"\"\"\n",
    "    for rect in rects:\n",
    "        height = rect.get_height()\n",
    "        ax.text(rect.get_x() + rect.get_width()/2., 1.05*height,\n",
    "                '%d' % int(height),\n",
    "                ha='center', va='bottom')\n",
    "\n",
    "autolabel(rects1)\n",
    "autolabel(rects2)\n",
    "\n",
    "plt.show()"
   ]
  },
  {
   "cell_type": "markdown",
   "metadata": {},
   "source": [
    "### Project Writeup\n",
    "\n",
    "Once you have completed the code implementation, document your results in a project writeup using this [template](https://github.com/udacity/CarND-Traffic-Sign-Classifier-Project/blob/master/writeup_template.md) as a guide. The writeup can be in a markdown or pdf file. "
   ]
  },
  {
   "cell_type": "markdown",
   "metadata": {},
   "source": [
    "> **Note**: Once you have completed all of the code implementations and successfully answered each question above, you may finalize your work by exporting the iPython Notebook as an HTML document. You can do this by using the menu above and navigating to  \\n\",\n",
    "    \"**File -> Download as -> HTML (.html)**. Include the finished document along with this notebook as your submission."
   ]
  },
  {
   "cell_type": "markdown",
   "metadata": {},
   "source": [
    "---\n",
    "\n",
    "## Step 4 (Optional): Visualize the Neural Network's State with Test Images\n",
    "\n",
    " This Section is not required to complete but acts as an additional excersise for understaning the output of a neural network's weights. While neural networks can be a great learning device they are often referred to as a black box. We can understand what the weights of a neural network look like better by plotting their feature maps. After successfully training your neural network you can see what it's feature maps look like by plotting the output of the network's weight layers in response to a test stimuli image. From these plotted feature maps, it's possible to see what characteristics of an image the network finds interesting. For a sign, maybe the inner network feature maps react with high activation to the sign's boundary outline or to the contrast in the sign's painted symbol.\n",
    "\n",
    " Provided for you below is the function code that allows you to get the visualization output of any tensorflow weight layer you want. The inputs to the function should be a stimuli image, one used during training or a new one you provided, and then the tensorflow variable name that represents the layer's state during the training process, for instance if you wanted to see what the [LeNet lab's](https://classroom.udacity.com/nanodegrees/nd013/parts/fbf77062-5703-404e-b60c-95b78b2f3f9e/modules/6df7ae49-c61c-4bb2-a23e-6527e69209ec/lessons/601ae704-1035-4287-8b11-e2c2716217ad/concepts/d4aca031-508f-4e0b-b493-e7b706120f81) feature maps looked like for it's second convolutional layer you could enter conv2 as the tf_activation variable.\n",
    "\n",
    "For an example of what feature map outputs look like, check out NVIDIA's results in their paper [End-to-End Deep Learning for Self-Driving Cars](https://devblogs.nvidia.com/parallelforall/deep-learning-self-driving-cars/) in the section Visualization of internal CNN State. NVIDIA was able to show that their network's inner weights had high activations to road boundary lines by comparing feature maps from an image with a clear path to one without. Try experimenting with a similar test to show that your trained network's weights are looking for interesting features, whether it's looking at differences in feature maps from images with or without a sign, or even what feature maps look like in a trained network vs a completely untrained one on the same sign image.\n",
    "\n",
    "<figure>\n",
    " <img src=\"visualize_cnn.png\" width=\"380\" alt=\"Combined Image\" />\n",
    " <figcaption>\n",
    " <p></p> \n",
    " <p style=\"text-align: center;\"> Your output should look something like this (above)</p> \n",
    " </figcaption>\n",
    "</figure>\n",
    " <p></p> \n"
   ]
  },
  {
   "cell_type": "code",
   "execution_count": null,
   "metadata": {
    "collapsed": true
   },
   "outputs": [],
   "source": [
    "### Visualize your network's feature maps here.\n",
    "### Feel free to use as many code cells as needed.\n",
    "\n",
    "# image_input: the test image being fed into the network to produce the feature maps\n",
    "# tf_activation: should be a tf variable name used during your training procedure that represents the calculated state of a specific weight layer\n",
    "# activation_min/max: can be used to view the activation contrast in more detail, by default matplot sets min and max to the actual min and max values of the output\n",
    "# plt_num: used to plot out multiple different weight feature map sets on the same block, just extend the plt number for each new feature map entry\n",
    "\n",
    "def outputFeatureMap(image_input, tf_activation, activation_min=-1, activation_max=-1 ,plt_num=1):\n",
    "    # Here make sure to preprocess your image_input in a way your network expects\n",
    "    # with size, normalization, ect if needed\n",
    "    # image_input =\n",
    "    # Note: x should be the same name as your network's tensorflow data placeholder variable\n",
    "    # If you get an error tf_activation is not defined it may be having trouble accessing the variable from inside a function\n",
    "    activation = tf_activation.eval(session=sess,feed_dict={x : image_input})\n",
    "    featuremaps = activation.shape[3]\n",
    "    plt.figure(plt_num, figsize=(15,15))\n",
    "    for featuremap in range(featuremaps):\n",
    "        plt.subplot(6,8, featuremap+1) # sets the number of feature maps to show on each row and column\n",
    "        plt.title('FeatureMap ' + str(featuremap)) # displays the feature map number\n",
    "        if activation_min != -1 & activation_max != -1:\n",
    "            plt.imshow(activation[0,:,:, featuremap], interpolation=\"nearest\", vmin =activation_min, vmax=activation_max, cmap=\"gray\")\n",
    "        elif activation_max != -1:\n",
    "            plt.imshow(activation[0,:,:, featuremap], interpolation=\"nearest\", vmax=activation_max, cmap=\"gray\")\n",
    "        elif activation_min !=-1:\n",
    "            plt.imshow(activation[0,:,:, featuremap], interpolation=\"nearest\", vmin=activation_min, cmap=\"gray\")\n",
    "        else:\n",
    "            plt.imshow(activation[0,:,:, featuremap], interpolation=\"nearest\", cmap=\"gray\")"
   ]
  }
 ],
 "metadata": {
  "anaconda-cloud": {},
  "kernelspec": {
   "display_name": "carnd-term1",
   "language": "python",
   "name": "carnd-term1"
  },
  "language_info": {
   "codemirror_mode": {
    "name": "ipython",
    "version": 3
   },
   "file_extension": ".py",
   "mimetype": "text/x-python",
   "name": "python",
   "nbconvert_exporter": "python",
   "pygments_lexer": "ipython3",
   "version": "3.5.2"
  },
  "widgets": {
   "state": {},
   "version": "1.1.2"
  }
 },
 "nbformat": 4,
 "nbformat_minor": 1
}
